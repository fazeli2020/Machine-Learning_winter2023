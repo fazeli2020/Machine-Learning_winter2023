{
 "cells": [
  {
   "attachments": {},
   "cell_type": "markdown",
   "metadata": {},
   "source": [
    "# Functions"
   ]
  },
  {
   "attachments": {},
   "cell_type": "markdown",
   "metadata": {},
   "source": [
    "# 1.Default Functions (Built-in)"
   ]
  },
  {
   "cell_type": "code",
   "execution_count": 61,
   "metadata": {},
   "outputs": [
    {
     "data": {
      "text/plain": [
       "[(0, 1), (1, 2), (2, 8), (3, 1)]"
      ]
     },
     "execution_count": 61,
     "metadata": {},
     "output_type": "execute_result"
    }
   ],
   "source": [
    "l1 = [1,2,8,1]\n",
    "\n",
    "list(enumerate(l1))"
   ]
  },
  {
   "cell_type": "code",
   "execution_count": 59,
   "metadata": {},
   "outputs": [
    {
     "name": "stdout",
     "output_type": "stream",
     "text": [
      "dict_keys(['math', 'Chemistry', 'Physics']) dict_values([20, 18, 15]) 4\n"
     ]
    }
   ],
   "source": [
    "dict_1 = {\"math\":20 ,\"Chemistry\":18 ,\"Physics\":15}\n",
    "l1 = [-1,-9,5,3,8]\n",
    "print(dict_1.keys(),dict_1.values(),l1.index(8))"
   ]
  },
  {
   "attachments": {},
   "cell_type": "markdown",
   "metadata": {},
   "source": [
    "# 2.User Define\n",
    "\n",
    ". With Name -> def\n",
    "\n"
   ]
  },
  {
   "cell_type": "code",
   "execution_count": 2,
   "metadata": {},
   "outputs": [
    {
     "name": "stdout",
     "output_type": "stream",
     "text": [
      "[2, 8, 2]\n"
     ]
    }
   ],
   "source": [
    "def func_filter(Num):\n",
    "    if Num % 2 == 0:\n",
    "        return True\n",
    "    if Num % 3 ==0:\n",
    "        return False\n",
    "    \n",
    "l2 = [2,3,8,3,2,1]\n",
    "obj = filter(func_filter , l2)\n",
    "print(list(obj))"
   ]
  },
  {
   "attachments": {},
   "cell_type": "markdown",
   "metadata": {},
   "source": [
    ". Without Name -> lambda"
   ]
  },
  {
   "cell_type": "code",
   "execution_count": 52,
   "metadata": {},
   "outputs": [
    {
     "name": "stdout",
     "output_type": "stream",
     "text": [
      "[2, 8, 2]\n"
     ]
    }
   ],
   "source": [
    "l2 = [2,3,8,3,2,1]\n",
    "\n",
    "l3 = list(filter(lambda x: x % 2  == 0, l2))\n",
    "print(l3)"
   ]
  },
  {
   "attachments": {},
   "cell_type": "markdown",
   "metadata": {},
   "source": [
    "# Errors"
   ]
  },
  {
   "attachments": {},
   "cell_type": "markdown",
   "metadata": {},
   "source": [
    "# 1. Syntax errors"
   ]
  },
  {
   "cell_type": "code",
   "execution_count": 4,
   "metadata": {},
   "outputs": [
    {
     "ename": "SyntaxError",
     "evalue": "invalid syntax (<ipython-input-4-1a9bb92cc795>, line 1)",
     "output_type": "error",
     "traceback": [
      "\u001b[1;36m  File \u001b[1;32m\"<ipython-input-4-1a9bb92cc795>\"\u001b[1;36m, line \u001b[1;32m1\u001b[0m\n\u001b[1;33m    if = 5\u001b[0m\n\u001b[1;37m       ^\u001b[0m\n\u001b[1;31mSyntaxError\u001b[0m\u001b[1;31m:\u001b[0m invalid syntax\n"
     ]
    }
   ],
   "source": [
    "if = 5"
   ]
  },
  {
   "attachments": {},
   "cell_type": "markdown",
   "metadata": {},
   "source": [
    "# 2. Logical Errors"
   ]
  },
  {
   "cell_type": "code",
   "execution_count": 5,
   "metadata": {},
   "outputs": [
    {
     "ename": "ZeroDivisionError",
     "evalue": "division by zero",
     "output_type": "error",
     "traceback": [
      "\u001b[1;31m---------------------------------------------------------------------------\u001b[0m",
      "\u001b[1;31mZeroDivisionError\u001b[0m                         Traceback (most recent call last)",
      "\u001b[1;32m<ipython-input-5-93928887037c>\u001b[0m in \u001b[0;36m<module>\u001b[1;34m\u001b[0m\n\u001b[0;32m      1\u001b[0m \u001b[0mn_1\u001b[0m \u001b[1;33m=\u001b[0m \u001b[0mint\u001b[0m\u001b[1;33m(\u001b[0m\u001b[0minput\u001b[0m\u001b[1;33m(\u001b[0m\u001b[1;34m'Enter number:'\u001b[0m\u001b[1;33m)\u001b[0m\u001b[1;33m)\u001b[0m\u001b[1;33m\u001b[0m\u001b[1;33m\u001b[0m\u001b[0m\n\u001b[0;32m      2\u001b[0m \u001b[0mn_2\u001b[0m \u001b[1;33m=\u001b[0m \u001b[0mint\u001b[0m\u001b[1;33m(\u001b[0m\u001b[0minput\u001b[0m\u001b[1;33m(\u001b[0m\u001b[1;34m'Enter number:'\u001b[0m\u001b[1;33m)\u001b[0m\u001b[1;33m)\u001b[0m\u001b[1;33m\u001b[0m\u001b[1;33m\u001b[0m\u001b[0m\n\u001b[1;32m----> 3\u001b[1;33m \u001b[0mprint\u001b[0m\u001b[1;33m(\u001b[0m\u001b[0mn_1\u001b[0m\u001b[1;33m/\u001b[0m\u001b[0mn_2\u001b[0m\u001b[1;33m)\u001b[0m\u001b[1;33m\u001b[0m\u001b[1;33m\u001b[0m\u001b[0m\n\u001b[0m",
      "\u001b[1;31mZeroDivisionError\u001b[0m: division by zero"
     ]
    }
   ],
   "source": [
    "n_1 = int(input('Enter number:'))\n",
    "n_2 = int(input('Enter number:'))\n",
    "print(n_1/n_2)\n"
   ]
  },
  {
   "cell_type": "code",
   "execution_count": 55,
   "metadata": {},
   "outputs": [
    {
     "name": "stdout",
     "output_type": "stream",
     "text": [
      "vorodi Namonaseb\n"
     ]
    }
   ],
   "source": [
    "try:\n",
    "    n_1 = int(input('Enter number:'))\n",
    "    n_2 = int(input('Enter number:'))\n",
    "    print(n_1/n_2)\n",
    "except:\n",
    "    print(\"Vorodi Namonaseb\")"
   ]
  },
  {
   "attachments": {},
   "cell_type": "markdown",
   "metadata": {},
   "source": [
    "# 3. Purpose Errors"
   ]
  },
  {
   "cell_type": "code",
   "execution_count": 56,
   "metadata": {},
   "outputs": [
    {
     "data": {
      "text/plain": [
       "54"
      ]
     },
     "execution_count": 56,
     "metadata": {},
     "output_type": "execute_result"
    }
   ],
   "source": [
    "2*3**3"
   ]
  },
  {
   "attachments": {},
   "cell_type": "markdown",
   "metadata": {},
   "source": [
    "# Object Oriented"
   ]
  },
  {
   "cell_type": "code",
   "execution_count": 62,
   "metadata": {},
   "outputs": [],
   "source": [
    "class Customer:\n",
    "    l1 = list()  # class attrs\n",
    "\n",
    "    def __init__(self, username, password, fullname, email):\n",
    "        self.username = username  # obj att\n",
    "        self.password = password\n",
    "        self.fullname = fullname\n",
    "        self.email = email\n",
    "        self.wallet_amount = 0\n",
    "        \n",
    "\n",
    "    #def __str__(self):\n",
    "        #return self.username\n",
    "\n",
    "    def check_password(self, password):\n",
    "        return self.password == password\n",
    "\n",
    "    #def set_enable(self):\n",
    "        #self.is_enable = True\n",
    "\n"
   ]
  },
  {
   "cell_type": "code",
   "execution_count": null,
   "metadata": {},
   "outputs": [],
   "source": []
  },
  {
   "cell_type": "code",
   "execution_count": 64,
   "metadata": {},
   "outputs": [
    {
     "data": {
      "text/plain": [
       "False"
      ]
     },
     "execution_count": 64,
     "metadata": {},
     "output_type": "execute_result"
    }
   ],
   "source": [
    "e1 = Customer(\"amin\",\"1234\",\"Aminii\",\"amin@gmail.com\")\n",
    "e1.check_password(\"123\")"
   ]
  },
  {
   "cell_type": "code",
   "execution_count": 57,
   "metadata": {},
   "outputs": [
    {
     "name": "stdout",
     "output_type": "stream",
     "text": [
      "[1, 1]\n",
      "amin@gmail.com\n"
     ]
    }
   ],
   "source": [
    "Customer.l1.append(1)\n",
    "print(Customer.l1)\n",
    "\n",
    "Customer.email = \"amin@gmail.com\"\n",
    "print(Customer.email)"
   ]
  },
  {
   "cell_type": "code",
   "execution_count": 58,
   "metadata": {},
   "outputs": [
    {
     "data": {
      "text/plain": [
       "<__main__.Customer at 0x21c4b9698c8>"
      ]
     },
     "execution_count": 58,
     "metadata": {},
     "output_type": "execute_result"
    }
   ],
   "source": [
    "p1 = Customer(\"Amin\", \"123\",\"Aghdasian\", \"amin@gmail.com\")\n",
    "p1"
   ]
  },
  {
   "cell_type": "code",
   "execution_count": 45,
   "metadata": {},
   "outputs": [],
   "source": [
    "class Product:\n",
    "    product_list = list()\n",
    "\n",
    "    def __init__(self, num, name, price=0, description=''):\n",
    "        self.num = num\n",
    "        self.name = name\n",
    "        self.price = price\n",
    "        self.description = description\n",
    "        Product.product_list.append(self)\n",
    "\n",
    "    def __str__(self):\n",
    "        return f\"num: {self.num}\\nname: {self.name}\"\n",
    "\n",
    "    def is_free(self):\n",
    "        return self.price == 0"
   ]
  },
  {
   "cell_type": "code",
   "execution_count": 46,
   "metadata": {},
   "outputs": [
    {
     "name": "stdout",
     "output_type": "stream",
     "text": [
      "num: 3\n",
      "name: amin\n"
     ]
    }
   ],
   "source": [
    "p1 = Product(\"3\",\"amin\",\"100\",\"baste baz shode pas gerefte nemishavad\")\n",
    "print(p1)"
   ]
  },
  {
   "attachments": {},
   "cell_type": "markdown",
   "metadata": {},
   "source": [
    "# Inheritance"
   ]
  },
  {
   "cell_type": "code",
   "execution_count": 38,
   "metadata": {},
   "outputs": [],
   "source": [
    "class User:\n",
    "\n",
    "    def __init__(self, username, password, fullname, email):\n",
    "        self.username = username  \n",
    "        self.password = password\n",
    "        self.fullname = fullname\n",
    "        self.email = email\n",
    "\n",
    "    def check_password(self, password):\n",
    "        return self.password == password\n",
    "\n",
    "class Customer(User):\n",
    "    counter = 0  # class attrs\n",
    "\n",
    "    def __init__(self, username, password, fullname, email):\n",
    "        self.wallet_amount = 0\n",
    "        #super().__init__(username, password, fullname, email)\n",
    "\n",
    "    def __str__(self):\n",
    "        return self.username\n",
    "\n",
    "class Reseller(User):\n",
    "    def __init__(self,brand,logo,*args , **kwargs):\n",
    "        self.brand = brand\n",
    "        self.logo = logo\n",
    "        #super().__init__(*args , **kwargs)\n",
    "    \n",
    "    def __str__(self):\n",
    "        return self.brand\n"
   ]
  },
  {
   "cell_type": "code",
   "execution_count": 39,
   "metadata": {},
   "outputs": [
    {
     "name": "stdout",
     "output_type": "stream",
     "text": [
      "f\n"
     ]
    }
   ],
   "source": [
    "r1 = Reseller(\"f\",\"a\",\"Amin\")\n",
    "print(r1)"
   ]
  },
  {
   "cell_type": "code",
   "execution_count": 72,
   "metadata": {},
   "outputs": [
    {
     "name": "stdout",
     "output_type": "stream",
     "text": [
      "123\n"
     ]
    }
   ],
   "source": [
    "r1 = Reseller(\"Nike\",\"Nikeee\",\"Reza\",\"123\",\"Rezayi\",\"reza@gmail.com\")\n",
    "print(r1.password)"
   ]
  },
  {
   "cell_type": "code",
   "execution_count": 7,
   "metadata": {},
   "outputs": [],
   "source": [
    "import math as m "
   ]
  },
  {
   "cell_type": "code",
   "execution_count": 9,
   "metadata": {},
   "outputs": [
    {
     "data": {
      "text/plain": [
       "1.2246467991473532e-16"
      ]
     },
     "execution_count": 9,
     "metadata": {},
     "output_type": "execute_result"
    }
   ],
   "source": [
    "m.sin(m.pi)"
   ]
  }
 ],
 "metadata": {
  "kernelspec": {
   "display_name": "base",
   "language": "python",
   "name": "python3"
  },
  "language_info": {
   "codemirror_mode": {
    "name": "ipython",
    "version": 3
   },
   "file_extension": ".py",
   "mimetype": "text/x-python",
   "name": "python",
   "nbconvert_exporter": "python",
   "pygments_lexer": "ipython3",
   "version": "3.7.6"
  },
  "orig_nbformat": 4,
  "vscode": {
   "interpreter": {
    "hash": "ad2bdc8ecc057115af97d19610ffacc2b4e99fae6737bb82f5d7fb13d2f2c186"
   }
  }
 },
 "nbformat": 4,
 "nbformat_minor": 2
}
