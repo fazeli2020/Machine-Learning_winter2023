{
 "cells": [
  {
   "cell_type": "markdown",
   "id": "3e079b66",
   "metadata": {},
   "source": [
    "# Introduction\n",
    "\n",
    "* python\n",
    " * IDEs(integrated development environment) & Text editors: jupyter, VS code, Spyder, Pycharm\n",
    " *or we can download it directly from python.org and use its text editor\n",
    "* How to install python\n",
    "* stackoverflow.com"
   ]
  },
  {
   "cell_type": "markdown",
   "id": "23d7fe89",
   "metadata": {},
   "source": [
    "## Starting programming\n",
    "\n",
    "* Variables\n",
    "* Operators\n",
    "* Data Structures & Algorithms\n",
    "* Flow of control\n",
    "* Testing, Debugging, Exceptions, Assertions\n",
    "* Object oriented Programming"
   ]
  },
  {
   "cell_type": "markdown",
   "id": "22c8ba7b",
   "metadata": {},
   "source": [
    "* Shell -> it's interactive -> هر دستوری که تایپ میکنیم و اینتر میزنیم را اجرا میکند"
   ]
  },
  {
   "cell_type": "markdown",
   "id": "327051ba",
   "metadata": {},
   "source": [
    "## Variable\n",
    "\n",
    "* a-z, A-Z, 0-9\n",
    "* اولین کاراکتر نمیتاند عدد باشد\n",
    "* توصیه: سعی کنید اسامی معنی دار بسازید"
   ]
  },
  {
   "cell_type": "code",
   "execution_count": 55,
   "id": "81db2ffc",
   "metadata": {},
   "outputs": [
    {
     "ename": "SyntaxError",
     "evalue": "invalid syntax (2923625430.py, line 1)",
     "output_type": "error",
     "traceback": [
      "\u001b[1;36m  Cell \u001b[1;32mIn [55], line 1\u001b[1;36m\u001b[0m\n\u001b[1;33m    1k= 8\u001b[0m\n\u001b[1;37m     ^\u001b[0m\n\u001b[1;31mSyntaxError\u001b[0m\u001b[1;31m:\u001b[0m invalid syntax\n"
     ]
    }
   ],
   "source": [
    "1k= 8"
   ]
  },
  {
   "cell_type": "code",
   "execution_count": 56,
   "id": "93600d93",
   "metadata": {},
   "outputs": [],
   "source": [
    "# تعریف متغیر سن\n",
    "age = 7"
   ]
  },
  {
   "cell_type": "code",
   "execution_count": 57,
   "id": "a61216f3",
   "metadata": {},
   "outputs": [
    {
     "data": {
      "text/plain": [
       "7"
      ]
     },
     "execution_count": 57,
     "metadata": {},
     "output_type": "execute_result"
    }
   ],
   "source": [
    "age"
   ]
  },
  {
   "cell_type": "code",
   "execution_count": 58,
   "id": "9ab8ddd2",
   "metadata": {},
   "outputs": [],
   "source": [
    "number1 = 10\n",
    "number2 = 10\n",
    "number3 = 10\n",
    "\n",
    "number1 = number2 = number3 = 10\n",
    "\n",
    "######################\n",
    "\n",
    "a1 = 2\n",
    "a2 = 3\n",
    "\n",
    "\n",
    "a1, a2 = 2, 3\n"
   ]
  },
  {
   "cell_type": "code",
   "execution_count": 11,
   "id": "87090c08",
   "metadata": {},
   "outputs": [
    {
     "data": {
      "text/plain": [
       "3"
      ]
     },
     "execution_count": 11,
     "metadata": {},
     "output_type": "execute_result"
    }
   ],
   "source": [
    "a2"
   ]
  },
  {
   "cell_type": "code",
   "execution_count": 13,
   "id": "e46e5a7e",
   "metadata": {},
   "outputs": [
    {
     "data": {
      "text/plain": [
       "3"
      ]
     },
     "execution_count": 13,
     "metadata": {},
     "output_type": "execute_result"
    }
   ],
   "source": [
    "a3 = a2\n",
    "a3"
   ]
  },
  {
   "cell_type": "code",
   "execution_count": 17,
   "id": "20ace12c",
   "metadata": {},
   "outputs": [
    {
     "data": {
      "text/plain": [
       "3"
      ]
     },
     "execution_count": 17,
     "metadata": {},
     "output_type": "execute_result"
    }
   ],
   "source": [
    "a2 = 7\n",
    "a3\n"
   ]
  },
  {
   "cell_type": "code",
   "execution_count": 1,
   "id": "10f76210",
   "metadata": {},
   "outputs": [
    {
     "data": {
      "text/plain": [
       "True"
      ]
     },
     "execution_count": 1,
     "metadata": {},
     "output_type": "execute_result"
    }
   ],
   "source": [
    "# boolean variable\n",
    "b1 = True\n",
    "b2 = False\n",
    "\n",
    "b1"
   ]
  },
  {
   "cell_type": "code",
   "execution_count": 3,
   "id": "a23f6829",
   "metadata": {},
   "outputs": [
    {
     "name": "stdout",
     "output_type": "stream",
     "text": [
      "<class 'bool'>\n"
     ]
    }
   ],
   "source": [
    "print(type(b1))"
   ]
  },
  {
   "cell_type": "code",
   "execution_count": 29,
   "id": "2b44ab67",
   "metadata": {},
   "outputs": [
    {
     "data": {
      "text/plain": [
       "(2+6j)"
      ]
     },
     "execution_count": 29,
     "metadata": {},
     "output_type": "execute_result"
    }
   ],
   "source": [
    "# complex variable\n",
    "\n",
    "complex1 = 2 + 6j\n",
    "\n",
    "complex1"
   ]
  },
  {
   "cell_type": "markdown",
   "id": "666ae344",
   "metadata": {},
   "source": [
    "# Keywords \n",
    "\n",
    "* if\n",
    "* for\n",
    "* end\n",
    "* while \n",
    ".."
   ]
  },
  {
   "attachments": {
    "image.png": {
     "image/png": "[encoded data removed]"
    }
   },
   "cell_type": "markdown",
   "id": "961bb9ea",
   "metadata": {},
   "source": [
    "# اپراتورهای ریاضی\n",
    "\n",
    "![image.png](attachment:image.png)"
   ]
  },
  {
   "cell_type": "code",
   "execution_count": 22,
   "id": "fa897880",
   "metadata": {},
   "outputs": [
    {
     "data": {
      "text/plain": [
       "(4.5, 4, 1)"
      ]
     },
     "execution_count": 22,
     "metadata": {},
     "output_type": "execute_result"
    }
   ],
   "source": [
    "9/2, 9//2, 9%2"
   ]
  },
  {
   "attachments": {
    "image.png": {
     "image/png": "[encoded data removed]"
    }
   },
   "cell_type": "markdown",
   "id": "58aec09d",
   "metadata": {},
   "source": [
    "# عملگرهای قیاسی\n",
    "\n",
    "![image.png](attachment:image.png)"
   ]
  },
  {
   "cell_type": "code",
   "execution_count": 24,
   "id": "83a40a64",
   "metadata": {},
   "outputs": [
    {
     "data": {
      "text/plain": [
       "True"
      ]
     },
     "execution_count": 24,
     "metadata": {},
     "output_type": "execute_result"
    }
   ],
   "source": [
    "number1 == number2"
   ]
  },
  {
   "cell_type": "code",
   "execution_count": 25,
   "id": "3524051d",
   "metadata": {},
   "outputs": [
    {
     "data": {
      "text/plain": [
       "False"
      ]
     },
     "execution_count": 25,
     "metadata": {},
     "output_type": "execute_result"
    }
   ],
   "source": [
    "a1 >= a3"
   ]
  },
  {
   "attachments": {
    "image.png": {
     "image/png": "[encoded data removed]"
    }
   },
   "cell_type": "markdown",
   "id": "c6ecb803",
   "metadata": {},
   "source": [
    "# عملگرهای انتسابی\n",
    "![image.png](attachment:image.png)"
   ]
  },
  {
   "cell_type": "code",
   "execution_count": 28,
   "id": "c0484087",
   "metadata": {},
   "outputs": [
    {
     "data": {
      "text/plain": [
       "12"
      ]
     },
     "execution_count": 28,
     "metadata": {},
     "output_type": "execute_result"
    }
   ],
   "source": [
    "var1 = 4\n",
    "\n",
    "var1 += 8  # var1 = var1 + 8\n",
    "\n",
    "var1"
   ]
  },
  {
   "attachments": {
    "image.png": {
     "image/png": "[encoded data removed]"
    }
   },
   "cell_type": "markdown",
   "id": "1fa912da",
   "metadata": {},
   "source": [
    "#  عملگرهای منطقی\n",
    "![image.png](attachment:image.png)"
   ]
  },
  {
   "cell_type": "code",
   "execution_count": 23,
   "id": "ee572b7d",
   "metadata": {},
   "outputs": [
    {
     "data": {
      "text/plain": [
       "True"
      ]
     },
     "execution_count": 23,
     "metadata": {},
     "output_type": "execute_result"
    }
   ],
   "source": [
    "2==2 and 3==3 "
   ]
  },
  {
   "cell_type": "markdown",
   "id": "e9592719",
   "metadata": {},
   "source": [
    "# رشته ها"
   ]
  },
  {
   "cell_type": "code",
   "execution_count": 7,
   "id": "d45e07f6",
   "metadata": {},
   "outputs": [
    {
     "data": {
      "text/plain": [
       "'ali'"
      ]
     },
     "execution_count": 7,
     "metadata": {},
     "output_type": "execute_result"
    }
   ],
   "source": [
    "string1 = \"ali\" # string1 = 'ali'\n",
    "\n",
    "string1"
   ]
  },
  {
   "cell_type": "markdown",
   "id": "ad68835a",
   "metadata": {},
   "source": [
    "###  فراخوانی تکی عناصر رشته"
   ]
  },
  {
   "cell_type": "code",
   "execution_count": 34,
   "id": "c19fd77b",
   "metadata": {},
   "outputs": [
    {
     "data": {
      "text/plain": [
       "'a'"
      ]
     },
     "execution_count": 34,
     "metadata": {},
     "output_type": "execute_result"
    }
   ],
   "source": [
    "string1[0]"
   ]
  },
  {
   "cell_type": "code",
   "execution_count": 38,
   "id": "9aa57447",
   "metadata": {},
   "outputs": [
    {
     "data": {
      "text/plain": [
       "'i'"
      ]
     },
     "execution_count": 38,
     "metadata": {},
     "output_type": "execute_result"
    }
   ],
   "source": [
    "string1[2]"
   ]
  },
  {
   "cell_type": "code",
   "execution_count": 36,
   "id": "6b8fa950",
   "metadata": {},
   "outputs": [
    {
     "data": {
      "text/plain": [
       "'i'"
      ]
     },
     "execution_count": 36,
     "metadata": {},
     "output_type": "execute_result"
    }
   ],
   "source": [
    "string1[-1]"
   ]
  },
  {
   "cell_type": "markdown",
   "id": "9f998242",
   "metadata": {},
   "source": [
    "### فراخوانی عناصر رشته به صورت جمعی(بازه ای)"
   ]
  },
  {
   "cell_type": "code",
   "execution_count": 4,
   "id": "841d815d",
   "metadata": {},
   "outputs": [],
   "source": [
    "message = 'hello world'"
   ]
  },
  {
   "cell_type": "code",
   "execution_count": 40,
   "id": "1992b87a",
   "metadata": {},
   "outputs": [
    {
     "data": {
      "text/plain": [
       "'llo w'"
      ]
     },
     "execution_count": 40,
     "metadata": {},
     "output_type": "execute_result"
    }
   ],
   "source": [
    "message[2:7] #[strat:end]"
   ]
  },
  {
   "cell_type": "code",
   "execution_count": 5,
   "id": "cb71b682",
   "metadata": {},
   "outputs": [
    {
     "name": "stdout",
     "output_type": "stream",
     "text": [
      "<class 'str'>\n"
     ]
    }
   ],
   "source": [
    "print(type(message))"
   ]
  },
  {
   "cell_type": "code",
   "execution_count": 45,
   "id": "0d94cc62",
   "metadata": {},
   "outputs": [
    {
     "data": {
      "text/plain": [
       "'llo world'"
      ]
     },
     "execution_count": 45,
     "metadata": {},
     "output_type": "execute_result"
    }
   ],
   "source": [
    "#از 2 تا آخر\n",
    "message[2:] #message[2:11]"
   ]
  },
  {
   "cell_type": "code",
   "execution_count": 47,
   "id": "6daf4eea",
   "metadata": {},
   "outputs": [
    {
     "data": {
      "text/plain": [
       "'hello'"
      ]
     },
     "execution_count": 47,
     "metadata": {},
     "output_type": "execute_result"
    }
   ],
   "source": [
    "# از ابتدا تا پنجمی\n",
    "\n",
    "message[:5]"
   ]
  },
  {
   "cell_type": "markdown",
   "id": "902b3d9d",
   "metadata": {},
   "source": [
    "### جمع زدن دو رشته با هم"
   ]
  },
  {
   "cell_type": "code",
   "execution_count": 48,
   "id": "57286c82",
   "metadata": {},
   "outputs": [
    {
     "data": {
      "text/plain": [
       "'hello worldali'"
      ]
     },
     "execution_count": 48,
     "metadata": {},
     "output_type": "execute_result"
    }
   ],
   "source": [
    "message + string1"
   ]
  },
  {
   "cell_type": "code",
   "execution_count": 49,
   "id": "d798c966",
   "metadata": {},
   "outputs": [
    {
     "data": {
      "text/plain": [
       "'alihello world'"
      ]
     },
     "execution_count": 49,
     "metadata": {},
     "output_type": "execute_result"
    }
   ],
   "source": [
    "string1 + message"
   ]
  },
  {
   "cell_type": "code",
   "execution_count": 51,
   "id": "be31ebd3",
   "metadata": {},
   "outputs": [
    {
     "ename": "TypeError",
     "evalue": "can only concatenate str (not \"int\") to str",
     "output_type": "error",
     "traceback": [
      "\u001b[1;31m---------------------------------------------------------------------------\u001b[0m",
      "\u001b[1;31mTypeError\u001b[0m                                 Traceback (most recent call last)",
      "Cell \u001b[1;32mIn [51], line 1\u001b[0m\n\u001b[1;32m----> 1\u001b[0m string1 \u001b[38;5;241m+\u001b[39m \u001b[38;5;241m5\u001b[39m\n",
      "\u001b[1;31mTypeError\u001b[0m: can only concatenate str (not \"int\") to str"
     ]
    }
   ],
   "source": [
    "string1 + 5"
   ]
  },
  {
   "cell_type": "code",
   "execution_count": 53,
   "id": "320e9c21",
   "metadata": {},
   "outputs": [
    {
     "data": {
      "text/plain": [
       "'alialiali'"
      ]
     },
     "execution_count": 53,
     "metadata": {},
     "output_type": "execute_result"
    }
   ],
   "source": [
    "string1 * 3 # string1 + string1 + string1"
   ]
  },
  {
   "cell_type": "code",
   "execution_count": 54,
   "id": "0c97e534",
   "metadata": {},
   "outputs": [
    {
     "ename": "TypeError",
     "evalue": "can't multiply sequence by non-int of type 'str'",
     "output_type": "error",
     "traceback": [
      "\u001b[1;31m---------------------------------------------------------------------------\u001b[0m",
      "\u001b[1;31mTypeError\u001b[0m                                 Traceback (most recent call last)",
      "Cell \u001b[1;32mIn [54], line 1\u001b[0m\n\u001b[1;32m----> 1\u001b[0m message \u001b[38;5;241m*\u001b[39m string1\n",
      "\u001b[1;31mTypeError\u001b[0m: can't multiply sequence by non-int of type 'str'"
     ]
    }
   ],
   "source": [
    "message * string1"
   ]
  },
  {
   "cell_type": "code",
   "execution_count": 6,
   "id": "4aaab0c9",
   "metadata": {},
   "outputs": [
    {
     "ename": "NameError",
     "evalue": "name 'string1' is not defined",
     "output_type": "error",
     "traceback": [
      "\u001b[1;31m---------------------------------------------------------------------------\u001b[0m",
      "\u001b[1;31mNameError\u001b[0m                                 Traceback (most recent call last)",
      "Cell \u001b[1;32mIn [6], line 1\u001b[0m\n\u001b[1;32m----> 1\u001b[0m string1\n",
      "\u001b[1;31mNameError\u001b[0m: name 'string1' is not defined"
     ]
    }
   ],
   "source": [
    "string1"
   ]
  },
  {
   "cell_type": "code",
   "execution_count": 56,
   "id": "ff1cae56",
   "metadata": {},
   "outputs": [
    {
     "name": "stdout",
     "output_type": "stream",
     "text": [
      "ali\n"
     ]
    }
   ],
   "source": [
    "print(string1)"
   ]
  },
  {
   "cell_type": "markdown",
   "id": "72757687",
   "metadata": {},
   "source": [
    "**پرینت فقط خروجی را نمایش میدهد و کاری به جنس آن ندارد**"
   ]
  },
  {
   "cell_type": "code",
   "execution_count": 57,
   "id": "29859ebd",
   "metadata": {},
   "outputs": [
    {
     "data": {
      "text/plain": [
       "'ali'"
      ]
     },
     "execution_count": 57,
     "metadata": {},
     "output_type": "execute_result"
    }
   ],
   "source": [
    "string1 "
   ]
  },
  {
   "cell_type": "markdown",
   "id": "7992dccc",
   "metadata": {},
   "source": [
    "در اینجا جنس خروجی مشخص است که رشته مباشد"
   ]
  },
  {
   "cell_type": "code",
   "execution_count": 59,
   "id": "4c00b756",
   "metadata": {},
   "outputs": [
    {
     "data": {
      "text/plain": [
       "3"
      ]
     },
     "execution_count": 59,
     "metadata": {},
     "output_type": "execute_result"
    }
   ],
   "source": [
    "# تابع len\n",
    "\n",
    "len(string1)"
   ]
  },
  {
   "cell_type": "markdown",
   "id": "6add342b",
   "metadata": {},
   "source": [
    "### عملگرهای قیاسی برای رشته ها\n"
   ]
  },
  {
   "cell_type": "code",
   "execution_count": 65,
   "id": "f0aa7549",
   "metadata": {},
   "outputs": [
    {
     "data": {
      "text/plain": [
       "False"
      ]
     },
     "execution_count": 65,
     "metadata": {},
     "output_type": "execute_result"
    }
   ],
   "source": [
    "str1 = \"ali\"\n",
    "str2 = \"mohammad\"\n",
    "str3 = 'mahmud'\n",
    "str4 = 'zahra'\n",
    "\n",
    "str1 > str2 #مقایسه بر اساس حروف الفبا انجام میشود"
   ]
  },
  {
   "cell_type": "code",
   "execution_count": 66,
   "id": "d84b97e4",
   "metadata": {},
   "outputs": [
    {
     "data": {
      "text/plain": [
       "True"
      ]
     },
     "execution_count": 66,
     "metadata": {},
     "output_type": "execute_result"
    }
   ],
   "source": [
    "str4 > str2"
   ]
  },
  {
   "cell_type": "code",
   "execution_count": 67,
   "id": "0b847458",
   "metadata": {},
   "outputs": [
    {
     "data": {
      "text/plain": [
       "True"
      ]
     },
     "execution_count": 67,
     "metadata": {},
     "output_type": "execute_result"
    }
   ],
   "source": [
    "str2 > str3"
   ]
  },
  {
   "cell_type": "code",
   "execution_count": 68,
   "id": "441c077f",
   "metadata": {},
   "outputs": [
    {
     "data": {
      "text/plain": [
       "'alimohammad'"
      ]
     },
     "execution_count": 68,
     "metadata": {},
     "output_type": "execute_result"
    }
   ],
   "source": [
    "#عملگرهای انتسابی برای رشته ها\n",
    "\n",
    "str1 += str2\n",
    "str1"
   ]
  },
  {
   "cell_type": "markdown",
   "id": "69e091aa",
   "metadata": {},
   "source": [
    "# عملگرهای عضویتی\n",
    "\n",
    "* in\n",
    "* not in"
   ]
  },
  {
   "cell_type": "code",
   "execution_count": 70,
   "id": "2be89fbf",
   "metadata": {},
   "outputs": [
    {
     "data": {
      "text/plain": [
       "True"
      ]
     },
     "execution_count": 70,
     "metadata": {},
     "output_type": "execute_result"
    }
   ],
   "source": [
    "'a' in str1"
   ]
  },
  {
   "cell_type": "code",
   "execution_count": 74,
   "id": "9155a3e2",
   "metadata": {},
   "outputs": [
    {
     "data": {
      "text/plain": [
       "False"
      ]
     },
     "execution_count": 74,
     "metadata": {},
     "output_type": "execute_result"
    }
   ],
   "source": [
    "'x' in str1"
   ]
  },
  {
   "cell_type": "code",
   "execution_count": 75,
   "id": "50d5e23d",
   "metadata": {},
   "outputs": [
    {
     "data": {
      "text/plain": [
       "True"
      ]
     },
     "execution_count": 75,
     "metadata": {},
     "output_type": "execute_result"
    }
   ],
   "source": [
    "'x' not in str1"
   ]
  },
  {
   "cell_type": "markdown",
   "id": "c7b9a5d6",
   "metadata": {},
   "source": [
    "## نکته: در پایتون مقدار یک شناسه، جنس آن را تعیین میکند\n",
    "\n"
   ]
  },
  {
   "cell_type": "code",
   "execution_count": 2,
   "id": "69be42d0",
   "metadata": {},
   "outputs": [
    {
     "data": {
      "text/plain": [
       "int"
      ]
     },
     "execution_count": 2,
     "metadata": {},
     "output_type": "execute_result"
    }
   ],
   "source": [
    "num = 5\n",
    "\n",
    "# معرفی تابع type\n",
    "\n",
    "type(num)"
   ]
  },
  {
   "cell_type": "code",
   "execution_count": 3,
   "id": "fa99fe98",
   "metadata": {},
   "outputs": [
    {
     "name": "stdout",
     "output_type": "stream",
     "text": [
      "<class 'int'>\n"
     ]
    }
   ],
   "source": [
    "print(type(num)) # \n"
   ]
  },
  {
   "cell_type": "markdown",
   "id": "5426cb4a",
   "metadata": {},
   "source": [
    "### هرچیزی در پایتون یک شی حساب میشود\n",
    "\n",
    "* مثل دنیای اطراف ما که مثلا دفتر یک شی از کلاس دفترهاست\n",
    "* یا مثلا 5 یک شی از کلاس اینت هاست\n",
    "* اشیا مختلف ویژگی و کاربرد متفاوت دارند\n",
    "    * ویژگی -> attribute  کاربرد -> Method\n",
    "    * تفاوت در ویژگی و کاربرد باعث تفاوت در خروجی در زمان استفاده از اپراتورها میشود\n",
    "        * مثلا اپراتور جمع برای رشته و عدد عملکرد متفاوتی دارد"
   ]
  },
  {
   "cell_type": "code",
   "execution_count": 4,
   "id": "d273118a",
   "metadata": {},
   "outputs": [
    {
     "name": "stdout",
     "output_type": "stream",
     "text": [
      "<class 'float'>\n"
     ]
    }
   ],
   "source": [
    "print(type(3.14))"
   ]
  },
  {
   "cell_type": "markdown",
   "id": "e2c6133b",
   "metadata": {},
   "source": [
    "### اشیا در پایتون به دو دسته تغییر پذیر و تغییر ناپذیر تقسیم میشوند"
   ]
  },
  {
   "cell_type": "markdown",
   "id": "f41373af",
   "metadata": {},
   "source": [
    "* اشیا تغییرپذیر آنهایی هستند که با تغییر مقدار، مکان مربوط به ذخیره شدنشان در حافظه تغییر نکند\n",
    "\n",
    "* ولی تغییرناپذیرها اگر مقدارشان تغییر کند مکان ذخیره شدنشان در حافظه تغییر میکند"
   ]
  },
  {
   "cell_type": "markdown",
   "id": "3cdd5475",
   "metadata": {},
   "source": [
    "* تغییرپذیرها -> mutable\n",
    "* تغییرناپذیرها -> immutable"
   ]
  },
  {
   "cell_type": "markdown",
   "id": "f889698e",
   "metadata": {},
   "source": [
    "# id معرفی تابع"
   ]
  },
  {
   "cell_type": "code",
   "execution_count": 7,
   "id": "f2804523",
   "metadata": {},
   "outputs": [
    {
     "data": {
      "text/plain": [
       "2337508649392"
      ]
     },
     "execution_count": 7,
     "metadata": {},
     "output_type": "execute_result"
    }
   ],
   "source": [
    "id(num)\n",
    "# خروحی این تابع در واقع آدرس مکانی از حافظه است که محتوای متغیر در آن ذخیره شده است"
   ]
  },
  {
   "cell_type": "markdown",
   "id": "20490b59",
   "metadata": {},
   "source": [
    "###  رشته ها تغییر ناپذیر هستند\n"
   ]
  },
  {
   "cell_type": "code",
   "execution_count": 8,
   "id": "91446ee5",
   "metadata": {},
   "outputs": [
    {
     "data": {
      "text/plain": [
       "1829009772848"
      ]
     },
     "execution_count": 8,
     "metadata": {},
     "output_type": "execute_result"
    }
   ],
   "source": [
    "str1 = 'salam'\n",
    "id(str1)"
   ]
  },
  {
   "cell_type": "code",
   "execution_count": 9,
   "id": "864b38d9",
   "metadata": {},
   "outputs": [
    {
     "data": {
      "text/plain": [
       "2337643837744"
      ]
     },
     "execution_count": 9,
     "metadata": {},
     "output_type": "execute_result"
    }
   ],
   "source": [
    "str1 = 'A' + 'salam'\n",
    "\n",
    "id(str1)"
   ]
  },
  {
   "cell_type": "markdown",
   "id": "e50f34a7",
   "metadata": {},
   "source": [
    "### همانطور که میبینیم آدرس حافظه تغییر کرد"
   ]
  },
  {
   "cell_type": "markdown",
   "id": "4072d731",
   "metadata": {},
   "source": [
    "### نکته: رشته ها چون تغییر ناپذیرند امکان تغییر بخشی از آنها وجود ندارد"
   ]
  },
  {
   "cell_type": "code",
   "execution_count": 13,
   "id": "06f93b47",
   "metadata": {},
   "outputs": [
    {
     "ename": "TypeError",
     "evalue": "'str' object does not support item assignment",
     "output_type": "error",
     "traceback": [
      "\u001b[1;31m---------------------------------------------------------------------------\u001b[0m",
      "\u001b[1;31mTypeError\u001b[0m                                 Traceback (most recent call last)",
      "Cell \u001b[1;32mIn [13], line 1\u001b[0m\n\u001b[1;32m----> 1\u001b[0m str1[\u001b[38;5;241m2\u001b[39m] \u001b[38;5;241m=\u001b[39m \u001b[38;5;124m'\u001b[39m\u001b[38;5;124mZ\u001b[39m\u001b[38;5;124m'\u001b[39m\n",
      "\u001b[1;31mTypeError\u001b[0m: 'str' object does not support item assignment"
     ]
    }
   ],
   "source": [
    "str1[2] = 'Z' #مثلا نمیتوانیم که عضو آن را تغییر دهیم"
   ]
  },
  {
   "cell_type": "markdown",
   "id": "71dddbf6",
   "metadata": {},
   "source": [
    "* برای هر شی به صورت اختصاصی یک سری متد بر اساس کلاس آن شی ایجاد میشود \n",
    " "
   ]
  },
  {
   "cell_type": "markdown",
   "id": "81adcec7",
   "metadata": {},
   "source": [
    "### معرفی چند متد برای رشته ها"
   ]
  },
  {
   "cell_type": "code",
   "execution_count": 14,
   "id": "71a66177",
   "metadata": {},
   "outputs": [
    {
     "data": {
      "text/plain": [
       "'ASALAM'"
      ]
     },
     "execution_count": 14,
     "metadata": {},
     "output_type": "execute_result"
    }
   ],
   "source": [
    "str1.upper()"
   ]
  },
  {
   "cell_type": "code",
   "execution_count": 15,
   "id": "7f7b2c46",
   "metadata": {},
   "outputs": [
    {
     "data": {
      "text/plain": [
       "'Asalam'"
      ]
     },
     "execution_count": 15,
     "metadata": {},
     "output_type": "execute_result"
    }
   ],
   "source": [
    "str1"
   ]
  },
  {
   "cell_type": "code",
   "execution_count": 18,
   "id": "3adb2c4f",
   "metadata": {},
   "outputs": [
    {
     "data": {
      "text/plain": [
       "'ASALAM'"
      ]
     },
     "execution_count": 18,
     "metadata": {},
     "output_type": "execute_result"
    }
   ],
   "source": [
    "str1 = str1.upper() # آدرس محل ذخیره سازی تغییر خواهد کرد\n",
    "str1 "
   ]
  },
  {
   "cell_type": "code",
   "execution_count": 11,
   "id": "577122cc",
   "metadata": {},
   "outputs": [
    {
     "data": {
      "text/plain": [
       "1"
      ]
     },
     "execution_count": 11,
     "metadata": {},
     "output_type": "execute_result"
    }
   ],
   "source": [
    "str1.index(\"a\")"
   ]
  },
  {
   "cell_type": "code",
   "execution_count": 23,
   "id": "092e3b9d",
   "metadata": {},
   "outputs": [
    {
     "data": {
      "text/plain": [
       "4"
      ]
     },
     "execution_count": 23,
     "metadata": {},
     "output_type": "execute_result"
    }
   ],
   "source": [
    "str1.index('A', 3) # از کاراکتر سومی به بعد دنبال حرف مورد نظر میگردد"
   ]
  },
  {
   "cell_type": "code",
   "execution_count": 25,
   "id": "c181c9e1",
   "metadata": {},
   "outputs": [
    {
     "data": {
      "text/plain": [
       "1"
      ]
     },
     "execution_count": 25,
     "metadata": {},
     "output_type": "execute_result"
    }
   ],
   "source": [
    "str1.count('M')"
   ]
  },
  {
   "cell_type": "code",
   "execution_count": 9,
   "id": "1f69621d",
   "metadata": {},
   "outputs": [
    {
     "data": {
      "text/plain": [
       "'SALAM'"
      ]
     },
     "execution_count": 9,
     "metadata": {},
     "output_type": "execute_result"
    }
   ],
   "source": [
    "str1.upper()"
   ]
  },
  {
   "cell_type": "code",
   "execution_count": 10,
   "id": "497ec952",
   "metadata": {},
   "outputs": [
    {
     "data": {
      "text/plain": [
       "'salam'"
      ]
     },
     "execution_count": 10,
     "metadata": {},
     "output_type": "execute_result"
    }
   ],
   "source": [
    "str1"
   ]
  },
  {
   "cell_type": "markdown",
   "id": "247ca4b4",
   "metadata": {},
   "source": [
    "# ساختار داده های پیش فرض پایتون\n",
    "\n",
    "* لیست ها \n",
    "* چندتایی های مرتب\n",
    "* دیکشنری ها \n",
    "* مجموعه ها"
   ]
  },
  {
   "cell_type": "markdown",
   "id": "3b744048",
   "metadata": {},
   "source": [
    "###  مزیت استفاده از ساختارهای داده ها\n",
    "\n",
    "* بهینه سازی ذخیره سازی داده ها\n",
    "* افزایش سرعت پردازش  و کاهش مصرف حافظه \n",
    "* ایجاد یک انسجام در ذخیره سازی داده های جمعی"
   ]
  },
  {
   "cell_type": "markdown",
   "id": "be5d2acd",
   "metadata": {},
   "source": [
    "### لیست ها"
   ]
  },
  {
   "cell_type": "code",
   "execution_count": 16,
   "id": "c7930aab",
   "metadata": {},
   "outputs": [
    {
     "data": {
      "text/plain": [
       "[12, 34, 100, -2, 9]"
      ]
     },
     "execution_count": 16,
     "metadata": {},
     "output_type": "execute_result"
    }
   ],
   "source": [
    "# نحوه تعریف\n",
    "l1 = [12, 34, 100, -2, 9]\n",
    "####\n",
    "\n",
    "l1 = list((12, 34, 100, -2, 9))\n",
    "\n",
    "l1"
   ]
  },
  {
   "cell_type": "code",
   "execution_count": 14,
   "id": "e9dfb695",
   "metadata": {},
   "outputs": [
    {
     "name": "stdout",
     "output_type": "stream",
     "text": [
      "<class 'list'>\n"
     ]
    }
   ],
   "source": [
    "print(type(l1))"
   ]
  },
  {
   "cell_type": "code",
   "execution_count": 16,
   "id": "a30d5aa9",
   "metadata": {},
   "outputs": [
    {
     "data": {
      "text/plain": [
       "9"
      ]
     },
     "execution_count": 16,
     "metadata": {},
     "output_type": "execute_result"
    }
   ],
   "source": [
    "l1[4]"
   ]
  },
  {
   "cell_type": "code",
   "execution_count": 17,
   "id": "6dadfcbc",
   "metadata": {},
   "outputs": [
    {
     "data": {
      "text/plain": [
       "9"
      ]
     },
     "execution_count": 17,
     "metadata": {},
     "output_type": "execute_result"
    }
   ],
   "source": [
    "l1[-1]"
   ]
  },
  {
   "cell_type": "code",
   "execution_count": 18,
   "id": "13b52ee7",
   "metadata": {},
   "outputs": [
    {
     "data": {
      "text/plain": [
       "[34, 100]"
      ]
     },
     "execution_count": 18,
     "metadata": {},
     "output_type": "execute_result"
    }
   ],
   "source": [
    "l1[1:3]"
   ]
  },
  {
   "cell_type": "code",
   "execution_count": 15,
   "id": "01518c95",
   "metadata": {},
   "outputs": [],
   "source": []
  },
  {
   "attachments": {
    "image.png": {
     "image/png": "[encoded data removed]"
    }
   },
   "cell_type": "markdown",
   "id": "ff9d05b6",
   "metadata": {},
   "source": [
    "## iterables and iterators\n",
    "\n",
    "![image.png](attachment:image.png)\n",
    "\n",
    "Iterable is an object, which one can iterate over. It generates an Iterator when passed to the iter() method. Lists, tuples, dictionaries, strings and sets are all iterable objects. They are iterable containers that you can convert into an iterator."
   ]
  },
  {
   "cell_type": "code",
   "execution_count": null,
   "id": "065f565d",
   "metadata": {},
   "outputs": [],
   "source": []
  },
  {
   "cell_type": "code",
   "execution_count": 24,
   "id": "166c8f54",
   "metadata": {},
   "outputs": [
    {
     "data": {
      "text/plain": [
       "<list_iterator at 0x1a9d969aee0>"
      ]
     },
     "execution_count": 24,
     "metadata": {},
     "output_type": "execute_result"
    }
   ],
   "source": [
    "iter1 = iter(l1)\n",
    "iter1"
   ]
  },
  {
   "cell_type": "code",
   "execution_count": 37,
   "id": "b69e5726",
   "metadata": {},
   "outputs": [
    {
     "ename": "TypeError",
     "evalue": "'list_iterator' object is not subscriptable",
     "output_type": "error",
     "traceback": [
      "\u001b[1;31m---------------------------------------------------------------------------\u001b[0m",
      "\u001b[1;31mTypeError\u001b[0m                                 Traceback (most recent call last)",
      "Cell \u001b[1;32mIn [37], line 1\u001b[0m\n\u001b[1;32m----> 1\u001b[0m iter1[\u001b[38;5;241m1\u001b[39m]\n",
      "\u001b[1;31mTypeError\u001b[0m: 'list_iterator' object is not subscriptable"
     ]
    }
   ],
   "source": [
    "iter1[1]"
   ]
  },
  {
   "cell_type": "code",
   "execution_count": 27,
   "id": "3f30da6a",
   "metadata": {},
   "outputs": [
    {
     "data": {
      "text/plain": [
       "100"
      ]
     },
     "execution_count": 27,
     "metadata": {},
     "output_type": "execute_result"
    }
   ],
   "source": [
    "next(iter1) # با هر بار فراخوانی این دستور، به ترتیب اعضای ایترریتور را خروجی میدهد"
   ]
  },
  {
   "cell_type": "code",
   "execution_count": 39,
   "id": "9692b461",
   "metadata": {},
   "outputs": [
    {
     "data": {
      "text/plain": [
       "34"
      ]
     },
     "execution_count": 39,
     "metadata": {},
     "output_type": "execute_result"
    }
   ],
   "source": [
    "next(iter1)"
   ]
  },
  {
   "cell_type": "code",
   "execution_count": 28,
   "id": "5b9d97c4",
   "metadata": {},
   "outputs": [],
   "source": [
    "l2 = [12, 34, 59, [5, 8], [1, 2 ,3], 8, 9]"
   ]
  },
  {
   "cell_type": "code",
   "execution_count": 29,
   "id": "e48c681f",
   "metadata": {},
   "outputs": [
    {
     "data": {
      "text/plain": [
       "[1, 2, 3]"
      ]
     },
     "execution_count": 29,
     "metadata": {},
     "output_type": "execute_result"
    }
   ],
   "source": [
    "l2[-3]"
   ]
  },
  {
   "cell_type": "code",
   "execution_count": 32,
   "id": "b8f5274e",
   "metadata": {},
   "outputs": [
    {
     "data": {
      "text/plain": [
       "3"
      ]
     },
     "execution_count": 32,
     "metadata": {},
     "output_type": "execute_result"
    }
   ],
   "source": [
    "l2[-3][-1]"
   ]
  },
  {
   "cell_type": "code",
   "execution_count": 41,
   "id": "96632a64",
   "metadata": {},
   "outputs": [
    {
     "data": {
      "text/plain": [
       "7"
      ]
     },
     "execution_count": 41,
     "metadata": {},
     "output_type": "execute_result"
    }
   ],
   "source": [
    "len(l2)"
   ]
  },
  {
   "cell_type": "code",
   "execution_count": 44,
   "id": "ee944b2b",
   "metadata": {},
   "outputs": [
    {
     "data": {
      "text/plain": [
       "5"
      ]
     },
     "execution_count": 44,
     "metadata": {},
     "output_type": "execute_result"
    }
   ],
   "source": [
    "# مثلا میخواهیم به عدد 5 برسیم\n",
    "\n",
    "l2[3][0]"
   ]
  },
  {
   "cell_type": "markdown",
   "id": "ff8a7411",
   "metadata": {},
   "source": [
    "### نکته: لیست ها تغییرپذیر هستند"
   ]
  },
  {
   "cell_type": "code",
   "execution_count": 45,
   "id": "7913490a",
   "metadata": {},
   "outputs": [
    {
     "data": {
      "text/plain": [
       "[12, 34, 100, -2, 9]"
      ]
     },
     "execution_count": 45,
     "metadata": {},
     "output_type": "execute_result"
    }
   ],
   "source": [
    "l1"
   ]
  },
  {
   "cell_type": "code",
   "execution_count": 46,
   "id": "aad4769f",
   "metadata": {},
   "outputs": [
    {
     "data": {
      "text/plain": [
       "1988642516864"
      ]
     },
     "execution_count": 46,
     "metadata": {},
     "output_type": "execute_result"
    }
   ],
   "source": [
    "id(l1)"
   ]
  },
  {
   "cell_type": "code",
   "execution_count": 48,
   "id": "c40ee6be",
   "metadata": {},
   "outputs": [
    {
     "data": {
      "text/plain": [
       "[12, 1000, 100, -2, 9]"
      ]
     },
     "execution_count": 48,
     "metadata": {},
     "output_type": "execute_result"
    }
   ],
   "source": [
    "l1[1] = 1000\n",
    "\n",
    "l1"
   ]
  },
  {
   "cell_type": "code",
   "execution_count": 49,
   "id": "2b8e7654",
   "metadata": {},
   "outputs": [
    {
     "data": {
      "text/plain": [
       "1988642516864"
      ]
     },
     "execution_count": 49,
     "metadata": {},
     "output_type": "execute_result"
    }
   ],
   "source": [
    "id(l1) "
   ]
  },
  {
   "cell_type": "code",
   "execution_count": 50,
   "id": "a6c2ee9f",
   "metadata": {},
   "outputs": [
    {
     "data": {
      "text/plain": [
       "[12, 23, 24, 25, 9]"
      ]
     },
     "execution_count": 50,
     "metadata": {},
     "output_type": "execute_result"
    }
   ],
   "source": [
    "l1[1:4] = [23, 24, 25]\n",
    "l1"
   ]
  },
  {
   "cell_type": "code",
   "execution_count": 35,
   "id": "6930b004",
   "metadata": {},
   "outputs": [],
   "source": [
    "l1[1:4] = [1]"
   ]
  },
  {
   "cell_type": "code",
   "execution_count": 52,
   "id": "a0280adc",
   "metadata": {},
   "outputs": [
    {
     "data": {
      "text/plain": [
       "[12, 1, 9]"
      ]
     },
     "execution_count": 52,
     "metadata": {},
     "output_type": "execute_result"
    }
   ],
   "source": [
    "l1"
   ]
  },
  {
   "cell_type": "markdown",
   "id": "7fc80cac",
   "metadata": {},
   "source": [
    "### del معرفی دستور\n",
    " \n",
    "* این دستور فقط مختص لیست ها نیست اما در لیست ها هم استفاده میشود\n",
    "* با استفاده از این دستور، یک آبجکت را به صورت کامل از حافظه حذف میکنیم "
   ]
  },
  {
   "cell_type": "code",
   "execution_count": 59,
   "id": "9a0c2fa3",
   "metadata": {},
   "outputs": [],
   "source": [
    "del(age)"
   ]
  },
  {
   "cell_type": "code",
   "execution_count": 60,
   "id": "7a8d98e4",
   "metadata": {},
   "outputs": [
    {
     "ename": "NameError",
     "evalue": "name 'age' is not defined",
     "output_type": "error",
     "traceback": [
      "\u001b[1;31m---------------------------------------------------------------------------\u001b[0m",
      "\u001b[1;31mNameError\u001b[0m                                 Traceback (most recent call last)",
      "Cell \u001b[1;32mIn [60], line 1\u001b[0m\n\u001b[1;32m----> 1\u001b[0m age\n",
      "\u001b[1;31mNameError\u001b[0m: name 'age' is not defined"
     ]
    }
   ],
   "source": [
    "age"
   ]
  },
  {
   "cell_type": "code",
   "execution_count": 62,
   "id": "5220a951",
   "metadata": {},
   "outputs": [
    {
     "data": {
      "text/plain": [
       "[12, 1, 9]"
      ]
     },
     "execution_count": 62,
     "metadata": {},
     "output_type": "execute_result"
    }
   ],
   "source": [
    "l1"
   ]
  },
  {
   "cell_type": "code",
   "execution_count": 63,
   "id": "df218edb",
   "metadata": {},
   "outputs": [],
   "source": [
    "del(l1[0])"
   ]
  },
  {
   "cell_type": "code",
   "execution_count": 64,
   "id": "2840b4c1",
   "metadata": {},
   "outputs": [
    {
     "data": {
      "text/plain": [
       "[1, 9]"
      ]
     },
     "execution_count": 64,
     "metadata": {},
     "output_type": "execute_result"
    }
   ],
   "source": [
    "l1"
   ]
  },
  {
   "cell_type": "markdown",
   "id": "fc0420bc",
   "metadata": {},
   "source": [
    "### عملگر جمع در لیست ها"
   ]
  },
  {
   "cell_type": "code",
   "execution_count": 66,
   "id": "fa5a2888",
   "metadata": {},
   "outputs": [
    {
     "data": {
      "text/plain": [
       "[1, 9]"
      ]
     },
     "execution_count": 66,
     "metadata": {},
     "output_type": "execute_result"
    }
   ],
   "source": [
    "l1 "
   ]
  },
  {
   "cell_type": "code",
   "execution_count": 67,
   "id": "ce4ee4b0",
   "metadata": {},
   "outputs": [
    {
     "data": {
      "text/plain": [
       "[12, 34, 59, [5, 8], [1, 2, 3], 8, 9]"
      ]
     },
     "execution_count": 67,
     "metadata": {},
     "output_type": "execute_result"
    }
   ],
   "source": [
    "l2"
   ]
  },
  {
   "cell_type": "code",
   "execution_count": 68,
   "id": "89a9f7de",
   "metadata": {},
   "outputs": [
    {
     "data": {
      "text/plain": [
       "[1, 9, 12, 34, 59, [5, 8], [1, 2, 3], 8, 9]"
      ]
     },
     "execution_count": 68,
     "metadata": {},
     "output_type": "execute_result"
    }
   ],
   "source": [
    "l1 + l2"
   ]
  },
  {
   "cell_type": "markdown",
   "id": "2378e357",
   "metadata": {},
   "source": [
    "### عملگرهای عضویتی در لیست ها "
   ]
  },
  {
   "cell_type": "code",
   "execution_count": 36,
   "id": "6b113ce0",
   "metadata": {},
   "outputs": [],
   "source": [
    "l2 = [6, 7, 9]"
   ]
  },
  {
   "cell_type": "code",
   "execution_count": 37,
   "id": "5845bc1d",
   "metadata": {},
   "outputs": [
    {
     "data": {
      "text/plain": [
       "False"
      ]
     },
     "execution_count": 37,
     "metadata": {},
     "output_type": "execute_result"
    }
   ],
   "source": [
    "6 not in l2"
   ]
  },
  {
   "cell_type": "code",
   "execution_count": 38,
   "id": "80811bc0",
   "metadata": {},
   "outputs": [
    {
     "data": {
      "text/plain": [
       "True"
      ]
     },
     "execution_count": 38,
     "metadata": {},
     "output_type": "execute_result"
    }
   ],
   "source": [
    "6 in l2"
   ]
  },
  {
   "cell_type": "code",
   "execution_count": 70,
   "id": "56487b22",
   "metadata": {},
   "outputs": [
    {
     "data": {
      "text/plain": [
       "False"
      ]
     },
     "execution_count": 70,
     "metadata": {},
     "output_type": "execute_result"
    }
   ],
   "source": [
    "23 in l2"
   ]
  },
  {
   "cell_type": "markdown",
   "id": "a449e3f3",
   "metadata": {},
   "source": [
    "### متدهای پرکاربرد در لیست ها"
   ]
  },
  {
   "cell_type": "markdown",
   "id": "6aee5e49",
   "metadata": {},
   "source": [
    "### append"
   ]
  },
  {
   "cell_type": "code",
   "execution_count": 71,
   "id": "ca7e4ad8",
   "metadata": {},
   "outputs": [
    {
     "data": {
      "text/plain": [
       "[1, 9]"
      ]
     },
     "execution_count": 71,
     "metadata": {},
     "output_type": "execute_result"
    }
   ],
   "source": [
    "l1"
   ]
  },
  {
   "cell_type": "code",
   "execution_count": 72,
   "id": "86821650",
   "metadata": {},
   "outputs": [
    {
     "data": {
      "text/plain": [
       "[1, 9, 1000]"
      ]
     },
     "execution_count": 72,
     "metadata": {},
     "output_type": "execute_result"
    }
   ],
   "source": [
    "l1.append(1000)\n",
    "l1"
   ]
  },
  {
   "cell_type": "code",
   "execution_count": 73,
   "id": "97a394ca",
   "metadata": {},
   "outputs": [
    {
     "data": {
      "text/plain": [
       "[1, 9, 1000, [2, 52, 9]]"
      ]
     },
     "execution_count": 73,
     "metadata": {},
     "output_type": "execute_result"
    }
   ],
   "source": [
    "l1.append([2, 52, 9])\n",
    "l1"
   ]
  },
  {
   "cell_type": "code",
   "execution_count": 74,
   "id": "82fc5545",
   "metadata": {},
   "outputs": [],
   "source": [
    "l1.append(\"salam\")\n"
   ]
  },
  {
   "cell_type": "code",
   "execution_count": 75,
   "id": "50896298",
   "metadata": {},
   "outputs": [
    {
     "data": {
      "text/plain": [
       "[1, 9, 1000, [2, 52, 9], 'salam']"
      ]
     },
     "execution_count": 75,
     "metadata": {},
     "output_type": "execute_result"
    }
   ],
   "source": [
    "l1"
   ]
  },
  {
   "cell_type": "markdown",
   "id": "d3e2137c",
   "metadata": {},
   "source": [
    "### extend\n",
    "\n",
    "* تک تک اعضای ایتریتور داده شده را به لیست مورد نظر اضافه میکند"
   ]
  },
  {
   "cell_type": "code",
   "execution_count": 78,
   "id": "9a64b99d",
   "metadata": {},
   "outputs": [
    {
     "data": {
      "text/plain": [
       "[1, 9, 1000, [2, 52, 9], 'salam', 'a', 'l', 'i']"
      ]
     },
     "execution_count": 78,
     "metadata": {},
     "output_type": "execute_result"
    }
   ],
   "source": [
    "l1.extend(\"ali\")\n",
    "l1"
   ]
  },
  {
   "cell_type": "code",
   "execution_count": 42,
   "id": "a1941ddb",
   "metadata": {},
   "outputs": [
    {
     "data": {
      "text/plain": [
       "[12, 1, [2, 52, 9]]"
      ]
     },
     "execution_count": 42,
     "metadata": {},
     "output_type": "execute_result"
    }
   ],
   "source": [
    "l1"
   ]
  },
  {
   "cell_type": "code",
   "execution_count": 43,
   "id": "63210721",
   "metadata": {},
   "outputs": [],
   "source": [
    "l1.extend([2, 52, 9])"
   ]
  },
  {
   "cell_type": "code",
   "execution_count": 44,
   "id": "6c901241",
   "metadata": {},
   "outputs": [
    {
     "data": {
      "text/plain": [
       "[12, 1, [2, 52, 9], 2, 52, 9]"
      ]
     },
     "execution_count": 44,
     "metadata": {},
     "output_type": "execute_result"
    }
   ],
   "source": [
    "l1"
   ]
  },
  {
   "cell_type": "code",
   "execution_count": 79,
   "id": "30b7c12e",
   "metadata": {},
   "outputs": [
    {
     "data": {
      "text/plain": [
       "[1, 2, 3, [2, 4]]"
      ]
     },
     "execution_count": 79,
     "metadata": {},
     "output_type": "execute_result"
    }
   ],
   "source": [
    "l2 = [1, 2, 3]\n",
    "\n",
    "l2.append([2,4])\n",
    "l2"
   ]
  },
  {
   "cell_type": "code",
   "execution_count": 80,
   "id": "31f1d68a",
   "metadata": {},
   "outputs": [
    {
     "data": {
      "text/plain": [
       "[1, 2, 3, 2, 4]"
      ]
     },
     "execution_count": 80,
     "metadata": {},
     "output_type": "execute_result"
    }
   ],
   "source": [
    "l2 = [1, 2, 3]\n",
    "\n",
    "l2.extend([2,4])\n",
    "l2"
   ]
  },
  {
   "cell_type": "markdown",
   "id": "40c47c5f",
   "metadata": {},
   "source": [
    "### insert"
   ]
  },
  {
   "cell_type": "code",
   "execution_count": 46,
   "id": "992b35ec",
   "metadata": {},
   "outputs": [
    {
     "data": {
      "text/plain": [
       "[1, 1000, 2, 3]"
      ]
     },
     "execution_count": 46,
     "metadata": {},
     "output_type": "execute_result"
    }
   ],
   "source": [
    "l2 = [1, 2, 3]\n",
    "# l2[1] = 1000\n",
    "l2.insert(1, 1000)\n",
    "l2"
   ]
  },
  {
   "cell_type": "markdown",
   "id": "095e6923",
   "metadata": {},
   "source": [
    "### remove\n",
    "\n",
    "* عضو موردنظر از لیست را جذف میکند\n",
    "* اولین جایی که مقداری از لیست که مدنظرمان است را ببیند حذف میکند"
   ]
  },
  {
   "cell_type": "code",
   "execution_count": 47,
   "id": "4da8557c",
   "metadata": {},
   "outputs": [],
   "source": [
    "l2.remove(1000)"
   ]
  },
  {
   "cell_type": "code",
   "execution_count": 48,
   "id": "cfa09198",
   "metadata": {},
   "outputs": [
    {
     "data": {
      "text/plain": [
       "[1, 2, 3]"
      ]
     },
     "execution_count": 48,
     "metadata": {},
     "output_type": "execute_result"
    }
   ],
   "source": [
    "l2"
   ]
  },
  {
   "cell_type": "code",
   "execution_count": 49,
   "id": "a7b57751",
   "metadata": {},
   "outputs": [
    {
     "data": {
      "text/plain": [
       "[1, 3]"
      ]
     },
     "execution_count": 49,
     "metadata": {},
     "output_type": "execute_result"
    }
   ],
   "source": [
    "l2.remove(2)\n",
    "l2"
   ]
  },
  {
   "cell_type": "code",
   "execution_count": 84,
   "id": "0a7a18a9",
   "metadata": {},
   "outputs": [
    {
     "data": {
      "text/plain": [
       "[1, 2, 2, 3]"
      ]
     },
     "execution_count": 84,
     "metadata": {},
     "output_type": "execute_result"
    }
   ],
   "source": [
    "l2 = [1, 2, 2, 2, 3]\n",
    "l2.remove(2)\n",
    "l2"
   ]
  },
  {
   "cell_type": "code",
   "execution_count": 50,
   "id": "35cede4a",
   "metadata": {},
   "outputs": [
    {
     "data": {
      "text/plain": [
       "[1, 3]"
      ]
     },
     "execution_count": 50,
     "metadata": {},
     "output_type": "execute_result"
    }
   ],
   "source": [
    "l2"
   ]
  },
  {
   "cell_type": "markdown",
   "id": "b0b3f821",
   "metadata": {},
   "source": [
    "### reverse"
   ]
  },
  {
   "cell_type": "code",
   "execution_count": 51,
   "id": "63d725c5",
   "metadata": {},
   "outputs": [
    {
     "data": {
      "text/plain": [
       "[3, 1]"
      ]
     },
     "execution_count": 51,
     "metadata": {},
     "output_type": "execute_result"
    }
   ],
   "source": [
    "l2.reverse()\n",
    "l2"
   ]
  },
  {
   "cell_type": "markdown",
   "id": "6bc97dcc",
   "metadata": {},
   "source": [
    "### clear"
   ]
  },
  {
   "cell_type": "code",
   "execution_count": 86,
   "id": "be1f3e0d",
   "metadata": {},
   "outputs": [
    {
     "data": {
      "text/plain": [
       "[]"
      ]
     },
     "execution_count": 86,
     "metadata": {},
     "output_type": "execute_result"
    }
   ],
   "source": [
    "l2.clear()\n",
    "l2"
   ]
  },
  {
   "cell_type": "markdown",
   "id": "ee2c86dd",
   "metadata": {},
   "source": [
    "### copy"
   ]
  },
  {
   "cell_type": "code",
   "execution_count": 52,
   "id": "32b580e4",
   "metadata": {},
   "outputs": [
    {
     "data": {
      "text/plain": [
       "[1, 2, 3, 4]"
      ]
     },
     "execution_count": 52,
     "metadata": {},
     "output_type": "execute_result"
    }
   ],
   "source": [
    "l3 = [1, 2, 3, 4]\n",
    "l4 = l3\n",
    "\n",
    "l4"
   ]
  },
  {
   "cell_type": "code",
   "execution_count": 53,
   "id": "efbeb60d",
   "metadata": {},
   "outputs": [
    {
     "data": {
      "text/plain": [
       "[1, -1, 3, 4]"
      ]
     },
     "execution_count": 53,
     "metadata": {},
     "output_type": "execute_result"
    }
   ],
   "source": [
    "l3[1] = -1\n",
    "l3"
   ]
  },
  {
   "cell_type": "code",
   "execution_count": 54,
   "id": "7660c496",
   "metadata": {},
   "outputs": [
    {
     "data": {
      "text/plain": [
       "[1, -1, 3, 4]"
      ]
     },
     "execution_count": 54,
     "metadata": {},
     "output_type": "execute_result"
    }
   ],
   "source": [
    "l4"
   ]
  },
  {
   "cell_type": "code",
   "execution_count": 100,
   "id": "7ae0db28",
   "metadata": {},
   "outputs": [],
   "source": [
    "l4[0] = 100"
   ]
  },
  {
   "cell_type": "code",
   "execution_count": 101,
   "id": "f24d320a",
   "metadata": {},
   "outputs": [
    {
     "data": {
      "text/plain": [
       "[100, -1, 3, 4]"
      ]
     },
     "execution_count": 101,
     "metadata": {},
     "output_type": "execute_result"
    }
   ],
   "source": [
    "l4"
   ]
  },
  {
   "cell_type": "code",
   "execution_count": 102,
   "id": "0400d4bc",
   "metadata": {},
   "outputs": [
    {
     "data": {
      "text/plain": [
       "[100, -1, 3, 4]"
      ]
     },
     "execution_count": 102,
     "metadata": {},
     "output_type": "execute_result"
    }
   ],
   "source": [
    "l3"
   ]
  },
  {
   "cell_type": "code",
   "execution_count": 103,
   "id": "8c49f616",
   "metadata": {},
   "outputs": [
    {
     "data": {
      "text/plain": [
       "1988643458816"
      ]
     },
     "execution_count": 103,
     "metadata": {},
     "output_type": "execute_result"
    }
   ],
   "source": [
    "id(l3)"
   ]
  },
  {
   "cell_type": "code",
   "execution_count": 104,
   "id": "a541f79e",
   "metadata": {},
   "outputs": [
    {
     "data": {
      "text/plain": [
       "1988643458816"
      ]
     },
     "execution_count": 104,
     "metadata": {},
     "output_type": "execute_result"
    }
   ],
   "source": [
    "id(l4)"
   ]
  },
  {
   "cell_type": "markdown",
   "id": "ea91df4e",
   "metadata": {},
   "source": [
    "### همانطور که دیدیم، از آنجایی که هر دو به یک قسمت از حافظه اشاره دارند، با تغییر یکی، دیگری هم تغییر میکند\n",
    "# برای جلوگیری از این موضوع از متد کپی استفاده میکنیم\n"
   ]
  },
  {
   "cell_type": "code",
   "execution_count": 105,
   "id": "502e2609",
   "metadata": {},
   "outputs": [
    {
     "data": {
      "text/plain": [
       "[100, -1, 3, 4]"
      ]
     },
     "execution_count": 105,
     "metadata": {},
     "output_type": "execute_result"
    }
   ],
   "source": [
    "l4 = l3.copy()\n",
    "\n",
    "l4"
   ]
  },
  {
   "cell_type": "code",
   "execution_count": 106,
   "id": "34539203",
   "metadata": {},
   "outputs": [
    {
     "data": {
      "text/plain": [
       "[100, -1, 9, 4]"
      ]
     },
     "execution_count": 106,
     "metadata": {},
     "output_type": "execute_result"
    }
   ],
   "source": [
    "l3[2] = 9\n",
    "l3"
   ]
  },
  {
   "cell_type": "code",
   "execution_count": 107,
   "id": "f0076aa7",
   "metadata": {},
   "outputs": [
    {
     "data": {
      "text/plain": [
       "[100, -1, 3, 4]"
      ]
     },
     "execution_count": 107,
     "metadata": {},
     "output_type": "execute_result"
    }
   ],
   "source": [
    "l4"
   ]
  },
  {
   "cell_type": "code",
   "execution_count": 108,
   "id": "d3068dd8",
   "metadata": {},
   "outputs": [
    {
     "data": {
      "text/plain": [
       "1988643458816"
      ]
     },
     "execution_count": 108,
     "metadata": {},
     "output_type": "execute_result"
    }
   ],
   "source": [
    "id(l3)"
   ]
  },
  {
   "cell_type": "code",
   "execution_count": 109,
   "id": "6a39db42",
   "metadata": {},
   "outputs": [
    {
     "data": {
      "text/plain": [
       "1988643557440"
      ]
     },
     "execution_count": 109,
     "metadata": {},
     "output_type": "execute_result"
    }
   ],
   "source": [
    "id(l4)"
   ]
  },
  {
   "cell_type": "markdown",
   "id": "6e3373b1",
   "metadata": {},
   "source": [
    "# عملگرهای هویتی\n",
    "\n",
    "* is\n",
    "* is not"
   ]
  },
  {
   "cell_type": "code",
   "execution_count": 56,
   "id": "6e790968",
   "metadata": {},
   "outputs": [
    {
     "data": {
      "text/plain": [
       "[1, -1, 3, 4]"
      ]
     },
     "execution_count": 56,
     "metadata": {},
     "output_type": "execute_result"
    }
   ],
   "source": [
    "l4 = l3.copy()\n",
    "\n",
    "l4"
   ]
  },
  {
   "cell_type": "code",
   "execution_count": 120,
   "id": "d1e5dfab",
   "metadata": {},
   "outputs": [
    {
     "data": {
      "text/plain": [
       "[100, -1, 9, 4]"
      ]
     },
     "execution_count": 120,
     "metadata": {},
     "output_type": "execute_result"
    }
   ],
   "source": [
    "l3"
   ]
  },
  {
   "cell_type": "code",
   "execution_count": 121,
   "id": "31e5846d",
   "metadata": {},
   "outputs": [
    {
     "data": {
      "text/plain": [
       "False"
      ]
     },
     "execution_count": 121,
     "metadata": {},
     "output_type": "execute_result"
    }
   ],
   "source": [
    "id(l3) == id(l4)"
   ]
  },
  {
   "cell_type": "code",
   "execution_count": 58,
   "id": "4f49c1ab",
   "metadata": {},
   "outputs": [
    {
     "data": {
      "text/plain": [
       "True"
      ]
     },
     "execution_count": 58,
     "metadata": {},
     "output_type": "execute_result"
    }
   ],
   "source": [
    "l3 == l4"
   ]
  },
  {
   "cell_type": "code",
   "execution_count": 57,
   "id": "040a4005",
   "metadata": {},
   "outputs": [
    {
     "data": {
      "text/plain": [
       "False"
      ]
     },
     "execution_count": 57,
     "metadata": {},
     "output_type": "execute_result"
    }
   ],
   "source": [
    "l3 is l4"
   ]
  },
  {
   "cell_type": "markdown",
   "id": "55355f62",
   "metadata": {},
   "source": [
    "### همانطر که مشاهده میکنید عملگر مقایسه ای تنها مقدار مقادیر را بررسی میکند \n",
    "\n",
    "### این عملگر مقادیر دو لیست را برابر هم میداند\n",
    "\n",
    "### اما اگر بخواهیم بررسی کنیم که آیا هر دو متغیر هویت یکسای دارند یا خیر(یعنی اینکه ایا هردو علاوه بر مقادیر یکسان، به یک بخش از حافظه اشاره میکنند یا خیر) از عملگرهای هویتی استفاده میکنیم"
   ]
  },
  {
   "cell_type": "code",
   "execution_count": 123,
   "id": "79acbe1c",
   "metadata": {},
   "outputs": [
    {
     "data": {
      "text/plain": [
       "False"
      ]
     },
     "execution_count": 123,
     "metadata": {},
     "output_type": "execute_result"
    }
   ],
   "source": [
    "l3 is l4"
   ]
  },
  {
   "cell_type": "markdown",
   "id": "6851e32a",
   "metadata": {},
   "source": [
    "### sort\n",
    "* دقت کنید که زمانی میتوانید از این متد استفاده کنید که همه عناصر همگن باشند(همه عدد یا همه کارکتر)"
   ]
  },
  {
   "cell_type": "code",
   "execution_count": 63,
   "id": "0283049d",
   "metadata": {},
   "outputs": [],
   "source": [
    "l3 = [1, 3 , 2]"
   ]
  },
  {
   "cell_type": "code",
   "execution_count": 64,
   "id": "5c00b2fe",
   "metadata": {},
   "outputs": [
    {
     "data": {
      "text/plain": [
       "[1, 2, 3]"
      ]
     },
     "execution_count": 64,
     "metadata": {},
     "output_type": "execute_result"
    }
   ],
   "source": [
    "l3.sort() \n",
    "l3"
   ]
  },
  {
   "cell_type": "code",
   "execution_count": 82,
   "id": "e4bf6d39",
   "metadata": {},
   "outputs": [
    {
     "data": {
      "text/plain": [
       "['a', 'b', 's']"
      ]
     },
     "execution_count": 82,
     "metadata": {},
     "output_type": "execute_result"
    }
   ],
   "source": [
    "l5 = ['s', 'a', 'b']\n",
    "l5.sort()\n",
    "l5"
   ]
  },
  {
   "cell_type": "code",
   "execution_count": 83,
   "id": "59de5cfd",
   "metadata": {},
   "outputs": [
    {
     "data": {
      "text/plain": [
       "['a', 'b', 's']"
      ]
     },
     "execution_count": 83,
     "metadata": {},
     "output_type": "execute_result"
    }
   ],
   "source": [
    "l5"
   ]
  },
  {
   "cell_type": "markdown",
   "id": "e0d6fbef",
   "metadata": {},
   "source": [
    "# pop"
   ]
  },
  {
   "cell_type": "code",
   "execution_count": 73,
   "id": "b9823a31",
   "metadata": {},
   "outputs": [],
   "source": [
    "history = []"
   ]
  },
  {
   "cell_type": "code",
   "execution_count": 88,
   "id": "9928650f",
   "metadata": {},
   "outputs": [],
   "source": [
    "history.append(l5.pop())"
   ]
  },
  {
   "cell_type": "code",
   "execution_count": 89,
   "id": "0587b761",
   "metadata": {},
   "outputs": [
    {
     "data": {
      "text/plain": [
       "['s', 'b', 'a']"
      ]
     },
     "execution_count": 89,
     "metadata": {},
     "output_type": "execute_result"
    }
   ],
   "source": [
    "history"
   ]
  },
  {
   "cell_type": "code",
   "execution_count": 67,
   "id": "63612b47",
   "metadata": {},
   "outputs": [],
   "source": [
    "l5.remove('a')"
   ]
  },
  {
   "cell_type": "code",
   "execution_count": 68,
   "id": "fe1062c6",
   "metadata": {},
   "outputs": [
    {
     "data": {
      "text/plain": [
       "['b', 's']"
      ]
     },
     "execution_count": 68,
     "metadata": {},
     "output_type": "execute_result"
    }
   ],
   "source": [
    "l5"
   ]
  },
  {
   "cell_type": "markdown",
   "id": "cabfa71f",
   "metadata": {},
   "source": [
    "### (tuple) چندتایی های مرتب\n",
    "\n",
    "* تغییر ناپذیرند"
   ]
  },
  {
   "cell_type": "code",
   "execution_count": 130,
   "id": "fcd2f1ef",
   "metadata": {},
   "outputs": [
    {
     "data": {
      "text/plain": [
       "tuple"
      ]
     },
     "execution_count": 130,
     "metadata": {},
     "output_type": "execute_result"
    }
   ],
   "source": [
    "t1 = (1, 2, 3)\n",
    "type(t1)"
   ]
  },
  {
   "cell_type": "code",
   "execution_count": 131,
   "id": "d43c4995",
   "metadata": {},
   "outputs": [
    {
     "data": {
      "text/plain": [
       "3"
      ]
     },
     "execution_count": 131,
     "metadata": {},
     "output_type": "execute_result"
    }
   ],
   "source": [
    "t1[2]"
   ]
  },
  {
   "cell_type": "markdown",
   "id": "7426b594",
   "metadata": {},
   "source": [
    "## ساختن تاپل ها بدون استفاده از پرانتز"
   ]
  },
  {
   "cell_type": "code",
   "execution_count": 90,
   "id": "2b074298",
   "metadata": {},
   "outputs": [
    {
     "data": {
      "text/plain": [
       "(1, 2, 3)"
      ]
     },
     "execution_count": 90,
     "metadata": {},
     "output_type": "execute_result"
    }
   ],
   "source": [
    "t1 = 1, 2, 3\n",
    "t1"
   ]
  },
  {
   "cell_type": "code",
   "execution_count": 137,
   "id": "acbcf53a",
   "metadata": {},
   "outputs": [
    {
     "data": {
      "text/plain": [
       "3"
      ]
     },
     "execution_count": 137,
     "metadata": {},
     "output_type": "execute_result"
    }
   ],
   "source": [
    "t1[-1]"
   ]
  },
  {
   "cell_type": "markdown",
   "id": "f2a442e7",
   "metadata": {},
   "source": [
    "### ساخت تاپل تک عضوی\n"
   ]
  },
  {
   "cell_type": "code",
   "execution_count": 94,
   "id": "f1ed8eef",
   "metadata": {},
   "outputs": [
    {
     "data": {
      "text/plain": [
       "(10,)"
      ]
     },
     "execution_count": 94,
     "metadata": {},
     "output_type": "execute_result"
    }
   ],
   "source": [
    "t2 = (10,)\n",
    "t2"
   ]
  },
  {
   "cell_type": "code",
   "execution_count": 95,
   "id": "1dbdb997",
   "metadata": {},
   "outputs": [
    {
     "data": {
      "text/plain": [
       "tuple"
      ]
     },
     "execution_count": 95,
     "metadata": {},
     "output_type": "execute_result"
    }
   ],
   "source": [
    "type(t2)"
   ]
  },
  {
   "cell_type": "code",
   "execution_count": 136,
   "id": "5b361b42",
   "metadata": {},
   "outputs": [
    {
     "data": {
      "text/plain": [
       "int"
      ]
     },
     "execution_count": 136,
     "metadata": {},
     "output_type": "execute_result"
    }
   ],
   "source": [
    "#توجه\n",
    "t2 = (10)\n",
    "type(t2)"
   ]
  },
  {
   "cell_type": "code",
   "execution_count": 138,
   "id": "011b430f",
   "metadata": {},
   "outputs": [
    {
     "data": {
      "text/plain": [
       "(1, 2, 3)"
      ]
     },
     "execution_count": 138,
     "metadata": {},
     "output_type": "execute_result"
    }
   ],
   "source": [
    "t1"
   ]
  },
  {
   "cell_type": "code",
   "execution_count": 139,
   "id": "286f47a5",
   "metadata": {},
   "outputs": [
    {
     "ename": "TypeError",
     "evalue": "'tuple' object does not support item assignment",
     "output_type": "error",
     "traceback": [
      "\u001b[1;31m---------------------------------------------------------------------------\u001b[0m",
      "\u001b[1;31mTypeError\u001b[0m                                 Traceback (most recent call last)",
      "Cell \u001b[1;32mIn [139], line 1\u001b[0m\n\u001b[1;32m----> 1\u001b[0m t1[\u001b[38;5;241m0\u001b[39m] \u001b[38;5;241m=\u001b[39m \u001b[38;5;241m100\u001b[39m\n",
      "\u001b[1;31mTypeError\u001b[0m: 'tuple' object does not support item assignment"
     ]
    }
   ],
   "source": [
    "t1[0] = 100"
   ]
  },
  {
   "cell_type": "code",
   "execution_count": 96,
   "id": "3b48c9f3",
   "metadata": {},
   "outputs": [
    {
     "data": {
      "text/plain": [
       "([1, 2, 3], 8, 25, (6, 4, 5))"
      ]
     },
     "execution_count": 96,
     "metadata": {},
     "output_type": "execute_result"
    }
   ],
   "source": [
    "t3 = ([1, 2, 3], 8, 25, (6, 4, 5))\n",
    "\n",
    "t3"
   ]
  },
  {
   "cell_type": "code",
   "execution_count": 141,
   "id": "63e9a2ce",
   "metadata": {},
   "outputs": [
    {
     "data": {
      "text/plain": [
       "4"
      ]
     },
     "execution_count": 141,
     "metadata": {},
     "output_type": "execute_result"
    }
   ],
   "source": [
    "len(t3)"
   ]
  },
  {
   "cell_type": "code",
   "execution_count": 142,
   "id": "679f0b1d",
   "metadata": {},
   "outputs": [
    {
     "data": {
      "text/plain": [
       "2"
      ]
     },
     "execution_count": 142,
     "metadata": {},
     "output_type": "execute_result"
    }
   ],
   "source": [
    "t3[0][1]"
   ]
  },
  {
   "cell_type": "code",
   "execution_count": 143,
   "id": "f1d69b52",
   "metadata": {},
   "outputs": [
    {
     "data": {
      "text/plain": [
       "True"
      ]
     },
     "execution_count": 143,
     "metadata": {},
     "output_type": "execute_result"
    }
   ],
   "source": [
    "25 in t3"
   ]
  },
  {
   "cell_type": "code",
   "execution_count": 144,
   "id": "5ddcacad",
   "metadata": {},
   "outputs": [
    {
     "data": {
      "text/plain": [
       "True"
      ]
     },
     "execution_count": 144,
     "metadata": {},
     "output_type": "execute_result"
    }
   ],
   "source": [
    "6 not in t3"
   ]
  },
  {
   "cell_type": "code",
   "execution_count": 148,
   "id": "3f343eb5",
   "metadata": {},
   "outputs": [
    {
     "data": {
      "text/plain": [
       "(1, 2, 3, [1, 2, 3], 8, 25, (6, 4, 5))"
      ]
     },
     "execution_count": 148,
     "metadata": {},
     "output_type": "execute_result"
    }
   ],
   "source": [
    "t1 + t3"
   ]
  },
  {
   "cell_type": "code",
   "execution_count": 149,
   "id": "c06b2652",
   "metadata": {},
   "outputs": [
    {
     "data": {
      "text/plain": [
       "((1, 2, 3), ([1, 2, 3], 8, 25, (6, 4, 5)))"
      ]
     },
     "execution_count": 149,
     "metadata": {},
     "output_type": "execute_result"
    }
   ],
   "source": [
    "t1, t3"
   ]
  },
  {
   "cell_type": "markdown",
   "id": "20b6fe48",
   "metadata": {},
   "source": [
    "### تاپل ها دو تا متد بیشتر ندارند\n",
    "* count\n",
    "* index"
   ]
  },
  {
   "cell_type": "code",
   "execution_count": 98,
   "id": "274bcb1e",
   "metadata": {},
   "outputs": [],
   "source": [
    "t3 = ([1, 2, 3], 8, 25, (6, 4, 5), 8)"
   ]
  },
  {
   "cell_type": "code",
   "execution_count": 99,
   "id": "84d79b4e",
   "metadata": {},
   "outputs": [
    {
     "data": {
      "text/plain": [
       "2"
      ]
     },
     "execution_count": 99,
     "metadata": {},
     "output_type": "execute_result"
    }
   ],
   "source": [
    "t3.count(8)"
   ]
  },
  {
   "cell_type": "code",
   "execution_count": 100,
   "id": "09bbb8b2",
   "metadata": {},
   "outputs": [
    {
     "data": {
      "text/plain": [
       "1"
      ]
     },
     "execution_count": 100,
     "metadata": {},
     "output_type": "execute_result"
    }
   ],
   "source": [
    "t3.index(8)"
   ]
  },
  {
   "cell_type": "markdown",
   "id": "59b36219",
   "metadata": {},
   "source": [
    "### Dictionary\n",
    "\n",
    "* تغییرپذیر هستند\n",
    "* هر داده در دیکشنری باید از این ساختار تبعیت کند -> key : value\n",
    "* کلیدها در واقع به نوعی همان اندیس حساب میشوند"
   ]
  },
  {
   "cell_type": "code",
   "execution_count": 153,
   "id": "80d12f80",
   "metadata": {},
   "outputs": [
    {
     "data": {
      "text/plain": [
       "'riazi'"
      ]
     },
     "execution_count": 153,
     "metadata": {},
     "output_type": "execute_result"
    }
   ],
   "source": [
    "grade = {1: 'riazi', 2:'fizik'}\n",
    "\n",
    "grade[1]"
   ]
  },
  {
   "cell_type": "markdown",
   "id": "81018700",
   "metadata": {},
   "source": [
    "### در دیکشنری ها تعریف نمیشود slicing"
   ]
  },
  {
   "cell_type": "code",
   "execution_count": 154,
   "id": "a4bd5b02",
   "metadata": {},
   "outputs": [
    {
     "ename": "TypeError",
     "evalue": "unhashable type: 'slice'",
     "output_type": "error",
     "traceback": [
      "\u001b[1;31m---------------------------------------------------------------------------\u001b[0m",
      "\u001b[1;31mTypeError\u001b[0m                                 Traceback (most recent call last)",
      "Cell \u001b[1;32mIn [154], line 1\u001b[0m\n\u001b[1;32m----> 1\u001b[0m grade[\u001b[38;5;241m1\u001b[39m:\u001b[38;5;241m2\u001b[39m]\n",
      "\u001b[1;31mTypeError\u001b[0m: unhashable type: 'slice'"
     ]
    }
   ],
   "source": [
    "grade[1:2]"
   ]
  },
  {
   "cell_type": "code",
   "execution_count": 155,
   "id": "ce511602",
   "metadata": {},
   "outputs": [],
   "source": [
    "grade = {'fizik' : 20, 'riazi' : 19, 'shimi' : 18.5}"
   ]
  },
  {
   "cell_type": "code",
   "execution_count": 156,
   "id": "59cb3d0e",
   "metadata": {},
   "outputs": [
    {
     "data": {
      "text/plain": [
       "20"
      ]
     },
     "execution_count": 156,
     "metadata": {},
     "output_type": "execute_result"
    }
   ],
   "source": [
    "grade['fizik']"
   ]
  },
  {
   "cell_type": "code",
   "execution_count": 159,
   "id": "cc4fac0e",
   "metadata": {},
   "outputs": [],
   "source": [
    "grade['varzesh'] = 20"
   ]
  },
  {
   "cell_type": "code",
   "execution_count": 160,
   "id": "706b3af9",
   "metadata": {},
   "outputs": [
    {
     "data": {
      "text/plain": [
       "{'fizik': 20, 'riazi': 19, 'shimi': 18.5, 'varzesh': 20}"
      ]
     },
     "execution_count": 160,
     "metadata": {},
     "output_type": "execute_result"
    }
   ],
   "source": [
    "grade"
   ]
  },
  {
   "cell_type": "markdown",
   "id": "63ea7df6",
   "metadata": {},
   "source": [
    "#### کلیدها نمیتوانند تکرار شوند و اگر تکرار شند در واقع به نوعی اوررایت پیش میاید"
   ]
  },
  {
   "cell_type": "code",
   "execution_count": 102,
   "id": "d4880a3d",
   "metadata": {},
   "outputs": [
    {
     "data": {
      "text/plain": [
       "{'fizik': 15, 'riazi': 19, 'shimi': 18.5}"
      ]
     },
     "execution_count": 102,
     "metadata": {},
     "output_type": "execute_result"
    }
   ],
   "source": [
    "grade = {'fizik' : 20, 'riazi' : 19, 'shimi' : 18.5, 'fizik' : 15}\n",
    "grade"
   ]
  },
  {
   "cell_type": "code",
   "execution_count": 162,
   "id": "93dbfa88",
   "metadata": {},
   "outputs": [
    {
     "ename": "TypeError",
     "evalue": "unsupported operand type(s) for +: 'dict' and 'dict'",
     "output_type": "error",
     "traceback": [
      "\u001b[1;31m---------------------------------------------------------------------------\u001b[0m",
      "\u001b[1;31mTypeError\u001b[0m                                 Traceback (most recent call last)",
      "Cell \u001b[1;32mIn [162], line 1\u001b[0m\n\u001b[1;32m----> 1\u001b[0m grade \u001b[38;5;241m+\u001b[39m grade\n",
      "\u001b[1;31mTypeError\u001b[0m: unsupported operand type(s) for +: 'dict' and 'dict'"
     ]
    }
   ],
   "source": [
    "# عملگر جمع اینجا کار نمیکند\n",
    "grade + grade"
   ]
  },
  {
   "cell_type": "code",
   "execution_count": 164,
   "id": "e1686f98",
   "metadata": {},
   "outputs": [
    {
     "data": {
      "text/plain": [
       "True"
      ]
     },
     "execution_count": 164,
     "metadata": {},
     "output_type": "execute_result"
    }
   ],
   "source": [
    "# عملکرد های عضویتی در دیکشنری ها روی کلید ها کار میکنند\n",
    "\n",
    "'fizik' in grade"
   ]
  },
  {
   "cell_type": "code",
   "execution_count": 165,
   "id": "f177c66d",
   "metadata": {},
   "outputs": [
    {
     "data": {
      "text/plain": [
       "False"
      ]
     },
     "execution_count": 165,
     "metadata": {},
     "output_type": "execute_result"
    }
   ],
   "source": [
    "20 in grade"
   ]
  },
  {
   "cell_type": "markdown",
   "id": "dfafbb95",
   "metadata": {},
   "source": [
    "### معرفی متدهای دیکشنری ها"
   ]
  },
  {
   "cell_type": "code",
   "execution_count": 103,
   "id": "9e44fae0",
   "metadata": {},
   "outputs": [
    {
     "data": {
      "text/plain": [
       "dict_keys(['fizik', 'riazi', 'shimi'])"
      ]
     },
     "execution_count": 103,
     "metadata": {},
     "output_type": "execute_result"
    }
   ],
   "source": [
    "grade.keys()"
   ]
  },
  {
   "cell_type": "code",
   "execution_count": 105,
   "id": "d677e2fa",
   "metadata": {},
   "outputs": [
    {
     "data": {
      "text/plain": [
       "{'fizik', 'riazi', 'shimi'}"
      ]
     },
     "execution_count": 105,
     "metadata": {},
     "output_type": "execute_result"
    }
   ],
   "source": [
    "list(grade.keys())"
   ]
  },
  {
   "cell_type": "code",
   "execution_count": 168,
   "id": "efa76d5b",
   "metadata": {},
   "outputs": [
    {
     "data": {
      "text/plain": [
       "dict_values([15, 19, 18.5])"
      ]
     },
     "execution_count": 168,
     "metadata": {},
     "output_type": "execute_result"
    }
   ],
   "source": [
    "grade.values()"
   ]
  },
  {
   "cell_type": "code",
   "execution_count": 106,
   "id": "9ef91428",
   "metadata": {},
   "outputs": [
    {
     "data": {
      "text/plain": [
       "[15, 19, 18.5]"
      ]
     },
     "execution_count": 106,
     "metadata": {},
     "output_type": "execute_result"
    }
   ],
   "source": [
    "list(grade.values())"
   ]
  },
  {
   "cell_type": "code",
   "execution_count": 171,
   "id": "3d6a689b",
   "metadata": {},
   "outputs": [
    {
     "data": {
      "text/plain": [
       "dict_items([('fizik', 15), ('riazi', 19), ('shimi', 18.5)])"
      ]
     },
     "execution_count": 171,
     "metadata": {},
     "output_type": "execute_result"
    }
   ],
   "source": [
    "#دیکشنری را به صورت زوج مرتب برمیگرداند\n",
    "grade.items()"
   ]
  },
  {
   "cell_type": "code",
   "execution_count": 186,
   "id": "9e61d108",
   "metadata": {},
   "outputs": [
    {
     "data": {
      "text/plain": [
       "15"
      ]
     },
     "execution_count": 186,
     "metadata": {},
     "output_type": "execute_result"
    }
   ],
   "source": [
    "grade.pop('fizik')"
   ]
  },
  {
   "cell_type": "code",
   "execution_count": 187,
   "id": "94e71594",
   "metadata": {},
   "outputs": [
    {
     "data": {
      "text/plain": [
       "{'riazi': 19, 'shimi': 18.5}"
      ]
     },
     "execution_count": 187,
     "metadata": {},
     "output_type": "execute_result"
    }
   ],
   "source": [
    "grade"
   ]
  },
  {
   "cell_type": "markdown",
   "id": "2feede98",
   "metadata": {},
   "source": [
    "# مجموعه ها (set)\n",
    "\n",
    "* تغییرپذیر هستند"
   ]
  },
  {
   "cell_type": "code",
   "execution_count": 188,
   "id": "e9f61ef0",
   "metadata": {},
   "outputs": [],
   "source": [
    "s1 = {1, 2, 3, 4, 5}"
   ]
  },
  {
   "cell_type": "code",
   "execution_count": 190,
   "id": "6d1e849b",
   "metadata": {},
   "outputs": [
    {
     "data": {
      "text/plain": [
       "{1, 2, 3, 4, 5}"
      ]
     },
     "execution_count": 190,
     "metadata": {},
     "output_type": "execute_result"
    }
   ],
   "source": [
    "s1"
   ]
  },
  {
   "cell_type": "code",
   "execution_count": 191,
   "id": "ae5d898a",
   "metadata": {},
   "outputs": [
    {
     "data": {
      "text/plain": [
       "set"
      ]
     },
     "execution_count": 191,
     "metadata": {},
     "output_type": "execute_result"
    }
   ],
   "source": [
    "type(s1)"
   ]
  },
  {
   "cell_type": "markdown",
   "id": "d0d834cf",
   "metadata": {},
   "source": [
    "## در مجموعه ها فراخوانی به صورت تکی و برشی نداریم"
   ]
  },
  {
   "cell_type": "code",
   "execution_count": 192,
   "id": "1ea671cd",
   "metadata": {},
   "outputs": [
    {
     "ename": "TypeError",
     "evalue": "'set' object is not subscriptable",
     "output_type": "error",
     "traceback": [
      "\u001b[1;31m---------------------------------------------------------------------------\u001b[0m",
      "\u001b[1;31mTypeError\u001b[0m                                 Traceback (most recent call last)",
      "Cell \u001b[1;32mIn [192], line 1\u001b[0m\n\u001b[1;32m----> 1\u001b[0m s1[\u001b[38;5;241m0\u001b[39m]\n",
      "\u001b[1;31mTypeError\u001b[0m: 'set' object is not subscriptable"
     ]
    }
   ],
   "source": [
    "s1[0]"
   ]
  },
  {
   "cell_type": "markdown",
   "id": "e05ce825",
   "metadata": {},
   "source": [
    "# دقیقا به مانند مجموعه های ریاضی هستند و عضو تکراری نداریم\n",
    "# اندیس نداریم چون به مانند مجموعه های ریاضی ترتیب در آنها اهمیت ندارد\n",
    "# عضو تکراری هم نداریم"
   ]
  },
  {
   "cell_type": "code",
   "execution_count": 193,
   "id": "e3414a27",
   "metadata": {},
   "outputs": [
    {
     "data": {
      "text/plain": [
       "{1, 2}"
      ]
     },
     "execution_count": 193,
     "metadata": {},
     "output_type": "execute_result"
    }
   ],
   "source": [
    "s2 = {1, 1, 1, 2, 2, 2}\n",
    "s2"
   ]
  },
  {
   "cell_type": "code",
   "execution_count": 194,
   "id": "ace545e8",
   "metadata": {},
   "outputs": [
    {
     "ename": "TypeError",
     "evalue": "unsupported operand type(s) for +: 'set' and 'set'",
     "output_type": "error",
     "traceback": [
      "\u001b[1;31m---------------------------------------------------------------------------\u001b[0m",
      "\u001b[1;31mTypeError\u001b[0m                                 Traceback (most recent call last)",
      "Cell \u001b[1;32mIn [194], line 1\u001b[0m\n\u001b[1;32m----> 1\u001b[0m s1 \u001b[38;5;241m+\u001b[39m s2\n",
      "\u001b[1;31mTypeError\u001b[0m: unsupported operand type(s) for +: 'set' and 'set'"
     ]
    }
   ],
   "source": [
    "# جمع در آنها تعریف نمیشود\n",
    "s1 + s2"
   ]
  },
  {
   "cell_type": "markdown",
   "id": "5703ee69",
   "metadata": {},
   "source": [
    "## نکته: آکولاد خالی دیکشنری شناخته میشود\n"
   ]
  },
  {
   "cell_type": "code",
   "execution_count": 195,
   "id": "8e8c0bc2",
   "metadata": {},
   "outputs": [
    {
     "data": {
      "text/plain": [
       "dict"
      ]
     },
     "execution_count": 195,
     "metadata": {},
     "output_type": "execute_result"
    }
   ],
   "source": [
    "d = {}\n",
    "type(d)"
   ]
  },
  {
   "cell_type": "code",
   "execution_count": 198,
   "id": "bc5321f2",
   "metadata": {},
   "outputs": [
    {
     "data": {
      "text/plain": [
       "set()"
      ]
     },
     "execution_count": 198,
     "metadata": {},
     "output_type": "execute_result"
    }
   ],
   "source": [
    "s = set()\n",
    "s"
   ]
  },
  {
   "cell_type": "code",
   "execution_count": 197,
   "id": "9c0d9b0e",
   "metadata": {},
   "outputs": [
    {
     "data": {
      "text/plain": [
       "set"
      ]
     },
     "execution_count": 197,
     "metadata": {},
     "output_type": "execute_result"
    }
   ],
   "source": [
    "type(s)"
   ]
  },
  {
   "cell_type": "markdown",
   "id": "52805598",
   "metadata": {},
   "source": [
    "## معرفی متدها در مجموعه ها\n"
   ]
  },
  {
   "cell_type": "markdown",
   "id": "4dee9a68",
   "metadata": {},
   "source": [
    "# add"
   ]
  },
  {
   "cell_type": "code",
   "execution_count": 199,
   "id": "e5397744",
   "metadata": {},
   "outputs": [
    {
     "data": {
      "text/plain": [
       "{1, 2, 3, 4, 5, 100}"
      ]
     },
     "execution_count": 199,
     "metadata": {},
     "output_type": "execute_result"
    }
   ],
   "source": [
    "s1.add(100)\n",
    "s1"
   ]
  },
  {
   "cell_type": "markdown",
   "id": "4c4a389a",
   "metadata": {},
   "source": [
    "## remove"
   ]
  },
  {
   "cell_type": "code",
   "execution_count": 200,
   "id": "a0127722",
   "metadata": {},
   "outputs": [],
   "source": [
    "s1.remove(100)"
   ]
  },
  {
   "cell_type": "code",
   "execution_count": 201,
   "id": "467b0a5c",
   "metadata": {},
   "outputs": [
    {
     "data": {
      "text/plain": [
       "{1, 2, 3, 4, 5}"
      ]
     },
     "execution_count": 201,
     "metadata": {},
     "output_type": "execute_result"
    }
   ],
   "source": [
    "s1"
   ]
  },
  {
   "cell_type": "markdown",
   "id": "9bc4d043",
   "metadata": {},
   "source": [
    "# update"
   ]
  },
  {
   "cell_type": "code",
   "execution_count": 202,
   "id": "b2a6b9bc",
   "metadata": {},
   "outputs": [
    {
     "data": {
      "text/plain": [
       "{1, 2, 3, 4, 5, 'salam'}"
      ]
     },
     "execution_count": 202,
     "metadata": {},
     "output_type": "execute_result"
    }
   ],
   "source": [
    "s1.add('salam')\n",
    "s1"
   ]
  },
  {
   "cell_type": "code",
   "execution_count": 204,
   "id": "d212b5e3",
   "metadata": {},
   "outputs": [
    {
     "data": {
      "text/plain": [
       "{1, 2, 3, 4, 5, 'a', 'l', 'm', 's'}"
      ]
     },
     "execution_count": 204,
     "metadata": {},
     "output_type": "execute_result"
    }
   ],
   "source": [
    "s1 = {1, 2, 3, 4, 5}\n",
    "s1.update('salam') #در لیست ها است extend  عملکرد آن شبیه تابع\n",
    "s1"
   ]
  },
  {
   "cell_type": "markdown",
   "id": "a86fd8f2",
   "metadata": {},
   "source": [
    "# عملگر اجتماع در مجموعه ها"
   ]
  },
  {
   "cell_type": "code",
   "execution_count": 207,
   "id": "fc734f7e",
   "metadata": {},
   "outputs": [
    {
     "data": {
      "text/plain": [
       "{1, 2, 3, 4}"
      ]
     },
     "execution_count": 207,
     "metadata": {},
     "output_type": "execute_result"
    }
   ],
   "source": [
    "s1 = {1, 2, 3}\n",
    "s2 = {2, 3, 4}\n",
    "\n",
    "s1.union(s2)"
   ]
  },
  {
   "cell_type": "code",
   "execution_count": 208,
   "id": "b11fff7f",
   "metadata": {},
   "outputs": [
    {
     "data": {
      "text/plain": [
       "{2, 3}"
      ]
     },
     "execution_count": 208,
     "metadata": {},
     "output_type": "execute_result"
    }
   ],
   "source": [
    "# اشتراک\n",
    "s1.intersection(s2) "
   ]
  },
  {
   "cell_type": "code",
   "execution_count": 210,
   "id": "80a0e1e1",
   "metadata": {},
   "outputs": [
    {
     "data": {
      "text/plain": [
       "{1}"
      ]
     },
     "execution_count": 210,
     "metadata": {},
     "output_type": "execute_result"
    }
   ],
   "source": [
    "# تفاضل\n",
    "s1.difference(s2) #s1 - s2"
   ]
  },
  {
   "cell_type": "code",
   "execution_count": 211,
   "id": "250bb8d1",
   "metadata": {},
   "outputs": [
    {
     "data": {
      "text/plain": [
       "{4}"
      ]
     },
     "execution_count": 211,
     "metadata": {},
     "output_type": "execute_result"
    }
   ],
   "source": [
    "s2.difference(s1)"
   ]
  },
  {
   "cell_type": "code",
   "execution_count": 213,
   "id": "e56969d1",
   "metadata": {},
   "outputs": [
    {
     "data": {
      "text/plain": [
       "False"
      ]
     },
     "execution_count": 213,
     "metadata": {},
     "output_type": "execute_result"
    }
   ],
   "source": [
    "s1.issubset(s2) # بررسی زیر مجموعه بودن"
   ]
  },
  {
   "cell_type": "markdown",
   "id": "3ad27510",
   "metadata": {},
   "source": [
    "## f string"
   ]
  },
  {
   "cell_type": "code",
   "execution_count": 109,
   "id": "797011ca",
   "metadata": {},
   "outputs": [],
   "source": [
    "num = 9.98888"
   ]
  },
  {
   "cell_type": "code",
   "execution_count": 113,
   "id": "4ad336c1",
   "metadata": {},
   "outputs": [
    {
     "name": "stdout",
     "output_type": "stream",
     "text": [
      "hello 9\n"
     ]
    }
   ],
   "source": [
    "print(f\"hello {num}\")"
   ]
  },
  {
   "cell_type": "code",
   "execution_count": 219,
   "id": "4e461c2c",
   "metadata": {},
   "outputs": [
    {
     "name": "stdout",
     "output_type": "stream",
     "text": [
      "the number is 11\n"
     ]
    }
   ],
   "source": [
    "num = 2\n",
    "print(f'the number is {num+9}')"
   ]
  },
  {
   "cell_type": "code",
   "execution_count": 220,
   "id": "36925276",
   "metadata": {},
   "outputs": [
    {
     "name": "stdout",
     "output_type": "stream",
     "text": [
      "the number is 2\n"
     ]
    }
   ],
   "source": [
    "print('the number is', num)"
   ]
  },
  {
   "cell_type": "markdown",
   "id": "f64cf403",
   "metadata": {},
   "source": [
    "## if condition:\n",
    "        body if\n",
    "        \n",
    "# indentation\n",
    "    *Indentation refers to the spaces at the beginning of a code line. Where in other programming languages the indentation in code is for readability only, the indentation in Python is very important. Python uses indentation to indicate a block of code."
   ]
  },
  {
   "cell_type": "code",
   "execution_count": 222,
   "id": "282c3042",
   "metadata": {},
   "outputs": [
    {
     "name": "stdout",
     "output_type": "stream",
     "text": [
      "hello\n"
     ]
    }
   ],
   "source": [
    "age = 19\n",
    "\n",
    "if age>18: \n",
    "    print(\"hello\")\n",
    "\n"
   ]
  },
  {
   "cell_type": "code",
   "execution_count": 228,
   "id": "46989a35",
   "metadata": {},
   "outputs": [
    {
     "name": "stdout",
     "output_type": "stream",
     "text": [
      "Bakhshpazir bar 6\n"
     ]
    }
   ],
   "source": [
    "num = 12\n",
    "\n",
    "if num % 2 == 0:\n",
    "    if num % 3 == 0:\n",
    "        print(\"Bakhshpazir bar 6\")\n",
    "    else:\n",
    "        print(\"bakhshpazir bar 2\")\n",
    "else:\n",
    "    print(\"adad fard ast\")"
   ]
  },
  {
   "cell_type": "code",
   "execution_count": 233,
   "id": "fcbc10a3",
   "metadata": {},
   "outputs": [
    {
     "name": "stdout",
     "output_type": "stream",
     "text": [
      "Bakhshpazir bar 6\n"
     ]
    }
   ],
   "source": [
    "num = 18\n",
    "if num %2 ==0 and num %3 == 0 :\n",
    "    print(\"Bakhshpazir bar 6\")"
   ]
  },
  {
   "cell_type": "code",
   "execution_count": 231,
   "id": "3dfd8a5c",
   "metadata": {},
   "outputs": [
    {
     "name": "stdout",
     "output_type": "stream",
     "text": [
      "negative\n"
     ]
    }
   ],
   "source": [
    "num = -9\n",
    "if num > 0:\n",
    "    print(\"posetive\")\n",
    "elif num == 0:\n",
    "    print(\"zero\")\n",
    "else:\n",
    "    print(\"negative\")"
   ]
  },
  {
   "cell_type": "markdown",
   "id": "bc1a5099",
   "metadata": {},
   "source": [
    "###  while condition:\n",
    "         body while"
   ]
  },
  {
   "cell_type": "code",
   "execution_count": 234,
   "id": "d411b5cb",
   "metadata": {},
   "outputs": [
    {
     "data": {
      "text/plain": [
       "[2, 2, 2, 2, 2]"
      ]
     },
     "execution_count": 234,
     "metadata": {},
     "output_type": "execute_result"
    }
   ],
   "source": [
    "num = 5\n",
    "l2 = []\n",
    "while num > 0:\n",
    "    l2.append(2)\n",
    "    num -= 1\n",
    "l2\n",
    "    "
   ]
  },
  {
   "cell_type": "markdown",
   "id": "db960b47",
   "metadata": {},
   "source": [
    "## for variable in iterable:\n",
    "        body for"
   ]
  },
  {
   "cell_type": "code",
   "execution_count": 236,
   "id": "2ee626f2",
   "metadata": {},
   "outputs": [
    {
     "name": "stdout",
     "output_type": "stream",
     "text": [
      "10\n",
      "20\n",
      "55\n",
      "-9\n"
     ]
    }
   ],
   "source": [
    "l1 = [10, 20, 55, -9]\n",
    "for i in l1:\n",
    "    print(i)"
   ]
  },
  {
   "cell_type": "code",
   "execution_count": 237,
   "id": "16345430",
   "metadata": {},
   "outputs": [
    {
     "name": "stdout",
     "output_type": "stream",
     "text": [
      "s\n",
      "a\n",
      "l\n",
      "a\n",
      "m\n"
     ]
    }
   ],
   "source": [
    "for i in \"salam\":\n",
    "    print(i)"
   ]
  },
  {
   "cell_type": "code",
   "execution_count": 116,
   "id": "d801f955",
   "metadata": {},
   "outputs": [
    {
     "name": "stdout",
     "output_type": "stream",
     "text": [
      "0\n",
      "1\n",
      "2\n",
      "3\n",
      "4\n"
     ]
    }
   ],
   "source": [
    "for i in range(5):\n",
    "    print(i)"
   ]
  },
  {
   "cell_type": "code",
   "execution_count": 115,
   "id": "9ebd9e41",
   "metadata": {},
   "outputs": [
    {
     "data": {
      "text/plain": [
       "range(0, 5)"
      ]
     },
     "execution_count": 115,
     "metadata": {},
     "output_type": "execute_result"
    }
   ],
   "source": [
    "range(5)"
   ]
  }
 ],
 "metadata": {
  "kernelspec": {
   "display_name": "Python 3 (ipykernel)",
   "language": "python",
   "name": "python3"
  },
  "language_info": {
   "codemirror_mode": {
    "name": "ipython",
    "version": 3
   },
   "file_extension": ".py",
   "mimetype": "text/x-python",
   "name": "python",
   "nbconvert_exporter": "python",
   "pygments_lexer": "ipython3",
   "version": "3.9.12"
  }
 },
 "nbformat": 4,
 "nbformat_minor": 5
}
